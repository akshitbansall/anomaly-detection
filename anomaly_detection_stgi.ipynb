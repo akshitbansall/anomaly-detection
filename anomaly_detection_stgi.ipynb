{
 "cells": [
  {
   "cell_type": "markdown",
   "id": "51148894",
   "metadata": {},
   "source": [
    "## This code snippet demonstrates the usage of Pandas, Matplotlib, and Seaborn libraries for data analysis and visualization.\n",
    "\n",
    "### Required Packages:\n",
    "- pandas: a powerful data manipulation and analysis library\n",
    "- matplotlib: a plotting library for creating static, animated, and interactive visualizations\n",
    "- seaborn: a data visualization library built on top of Matplotlib, providing high-level interface for drawing attractive and informative statistical graphics\n",
    "- numpy: a fundamental package for scientific computing with Python, providing support for large, multi-dimensional arrays and matrices, along with a large collection of mathematical functions to operate on these arrays\n",
    "\n",
    "### Usage:\n",
    "1. Import the necessary libraries: pandas, matplotlib, seaborn and numpy.\n",
    "2. Load the data into a Pandas DataFrame using pd.read_csv(), pd.read_excel(), or any other applicable method.\n",
    "3. Utilize numpy functions and operations for numerical computations on arrays.\n",
    "4. Perform data analysis and manipulation using Pandas functions and methods.\n",
    "5. Create visualizations using Matplotlib and Seaborn functions.\n",
    "6. Customize the plots as needed using the available options and parameters.\n",
    "7. Display the plots using plt.show()."
   ]
  },
  {
   "cell_type": "code",
   "execution_count": 1,
   "id": "7be75d39",
   "metadata": {},
   "outputs": [],
   "source": [
    "import numpy as np\n",
    "import pandas as pd\n",
    "import matplotlib.pyplot as plt\n",
    "import seaborn as sns"
   ]
  },
  {
   "cell_type": "markdown",
   "id": "6e738152",
   "metadata": {},
   "source": [
    "### The data from the \"Login_Data.csv\" file is read and stored in a pandas DataFrame object named 'df'.\n",
    "\n",
    "The pd.read_csv() function is called with the file path ./Login_Data.csv as an argument. The function reads the CSV file and converts it into a pandas DataFrame. The resulting DataFrame is then assigned to the variable df.\n",
    "\n",
    "The purpose of this code is to load the data from the CSV file into a DataFrame for further data manipulation, analysis, or processing using pandas."
   ]
  },
  {
   "cell_type": "code",
   "execution_count": 2,
   "id": "7943b734",
   "metadata": {},
   "outputs": [],
   "source": [
    "df = pd.read_csv(\"Login_Data.csv\")"
   ]
  },
  {
   "cell_type": "markdown",
   "id": "fd564cdc",
   "metadata": {},
   "source": [
    "#### The head() method is commonly used in data analysis and exploratory data analysis (EDA) tasks to obtain an overview of the data before performing further analysis or processing. It is particularly useful when dealing with large datasets, as it provides a concise summary of the DataFrame content."
   ]
  },
  {
   "cell_type": "code",
   "execution_count": 3,
   "id": "3bc0fcb6",
   "metadata": {},
   "outputs": [
    {
     "data": {
      "text/html": [
       "<div>\n",
       "<style scoped>\n",
       "    .dataframe tbody tr th:only-of-type {\n",
       "        vertical-align: middle;\n",
       "    }\n",
       "\n",
       "    .dataframe tbody tr th {\n",
       "        vertical-align: top;\n",
       "    }\n",
       "\n",
       "    .dataframe thead th {\n",
       "        text-align: right;\n",
       "    }\n",
       "</style>\n",
       "<table border=\"1\" class=\"dataframe\">\n",
       "  <thead>\n",
       "    <tr style=\"text-align: right;\">\n",
       "      <th></th>\n",
       "      <th>Login Timestamp</th>\n",
       "      <th>User ID</th>\n",
       "      <th>IP Address</th>\n",
       "      <th>Country</th>\n",
       "      <th>Region</th>\n",
       "      <th>City</th>\n",
       "      <th>Browser Name and Version</th>\n",
       "      <th>Device Type</th>\n",
       "      <th>Login Successful</th>\n",
       "    </tr>\n",
       "  </thead>\n",
       "  <tbody>\n",
       "    <tr>\n",
       "      <th>0</th>\n",
       "      <td>2020-02-03 12:43:30.772</td>\n",
       "      <td>-4324475583306591935</td>\n",
       "      <td>10.0.65.171</td>\n",
       "      <td>NO</td>\n",
       "      <td>-</td>\n",
       "      <td>-</td>\n",
       "      <td>Firefox 20.0.0.1618</td>\n",
       "      <td>mobile</td>\n",
       "      <td>False</td>\n",
       "    </tr>\n",
       "    <tr>\n",
       "      <th>1</th>\n",
       "      <td>2020-02-03 12:43:43.549</td>\n",
       "      <td>-4324475583306591935</td>\n",
       "      <td>194.87.207.6</td>\n",
       "      <td>AU</td>\n",
       "      <td>-</td>\n",
       "      <td>-</td>\n",
       "      <td>Chrome Mobile 46.0.2490</td>\n",
       "      <td>mobile</td>\n",
       "      <td>False</td>\n",
       "    </tr>\n",
       "    <tr>\n",
       "      <th>2</th>\n",
       "      <td>2020-02-03 12:43:55.873</td>\n",
       "      <td>-3284137479262433373</td>\n",
       "      <td>81.167.144.58</td>\n",
       "      <td>NO</td>\n",
       "      <td>Vestland</td>\n",
       "      <td>Urangsvag</td>\n",
       "      <td>Android 2.3.3.2672</td>\n",
       "      <td>mobile</td>\n",
       "      <td>True</td>\n",
       "    </tr>\n",
       "    <tr>\n",
       "      <th>3</th>\n",
       "      <td>2020-02-03 12:43:56.180</td>\n",
       "      <td>-4324475583306591935</td>\n",
       "      <td>170.39.78.152</td>\n",
       "      <td>US</td>\n",
       "      <td>-</td>\n",
       "      <td>-</td>\n",
       "      <td>Chrome Mobile WebView 85.0.4183</td>\n",
       "      <td>mobile</td>\n",
       "      <td>False</td>\n",
       "    </tr>\n",
       "    <tr>\n",
       "      <th>4</th>\n",
       "      <td>2020-02-03 12:43:59.396</td>\n",
       "      <td>-4618854071942621186</td>\n",
       "      <td>10.0.0.47</td>\n",
       "      <td>US</td>\n",
       "      <td>Virginia</td>\n",
       "      <td>Ashburn</td>\n",
       "      <td>Chrome Mobile WebView 85.0.4183</td>\n",
       "      <td>mobile</td>\n",
       "      <td>False</td>\n",
       "    </tr>\n",
       "  </tbody>\n",
       "</table>\n",
       "</div>"
      ],
      "text/plain": [
       "           Login Timestamp              User ID     IP Address Country  \\\n",
       "0  2020-02-03 12:43:30.772 -4324475583306591935    10.0.65.171      NO   \n",
       "1  2020-02-03 12:43:43.549 -4324475583306591935   194.87.207.6      AU   \n",
       "2  2020-02-03 12:43:55.873 -3284137479262433373  81.167.144.58      NO   \n",
       "3  2020-02-03 12:43:56.180 -4324475583306591935  170.39.78.152      US   \n",
       "4  2020-02-03 12:43:59.396 -4618854071942621186      10.0.0.47      US   \n",
       "\n",
       "     Region       City         Browser Name and Version Device Type  \\\n",
       "0         -          -              Firefox 20.0.0.1618      mobile   \n",
       "1         -          -          Chrome Mobile 46.0.2490      mobile   \n",
       "2  Vestland  Urangsvag               Android 2.3.3.2672      mobile   \n",
       "3         -          -  Chrome Mobile WebView 85.0.4183      mobile   \n",
       "4  Virginia    Ashburn  Chrome Mobile WebView 85.0.4183      mobile   \n",
       "\n",
       "   Login Successful  \n",
       "0             False  \n",
       "1             False  \n",
       "2              True  \n",
       "3             False  \n",
       "4             False  "
      ]
     },
     "execution_count": 3,
     "metadata": {},
     "output_type": "execute_result"
    }
   ],
   "source": [
    "df.head()"
   ]
  },
  {
   "cell_type": "code",
   "execution_count": 4,
   "id": "0b15a74e",
   "metadata": {},
   "outputs": [
    {
     "data": {
      "text/html": [
       "<div>\n",
       "<style scoped>\n",
       "    .dataframe tbody tr th:only-of-type {\n",
       "        vertical-align: middle;\n",
       "    }\n",
       "\n",
       "    .dataframe tbody tr th {\n",
       "        vertical-align: top;\n",
       "    }\n",
       "\n",
       "    .dataframe thead th {\n",
       "        text-align: right;\n",
       "    }\n",
       "</style>\n",
       "<table border=\"1\" class=\"dataframe\">\n",
       "  <thead>\n",
       "    <tr style=\"text-align: right;\">\n",
       "      <th></th>\n",
       "      <th>User ID</th>\n",
       "    </tr>\n",
       "  </thead>\n",
       "  <tbody>\n",
       "    <tr>\n",
       "      <th>count</th>\n",
       "      <td>3.126926e+07</td>\n",
       "    </tr>\n",
       "    <tr>\n",
       "      <th>mean</th>\n",
       "      <td>-1.924043e+18</td>\n",
       "    </tr>\n",
       "    <tr>\n",
       "      <th>std</th>\n",
       "      <td>4.514276e+18</td>\n",
       "    </tr>\n",
       "    <tr>\n",
       "      <th>min</th>\n",
       "      <td>-9.223371e+18</td>\n",
       "    </tr>\n",
       "    <tr>\n",
       "      <th>25%</th>\n",
       "      <td>-4.324476e+18</td>\n",
       "    </tr>\n",
       "    <tr>\n",
       "      <th>50%</th>\n",
       "      <td>-4.324476e+18</td>\n",
       "    </tr>\n",
       "    <tr>\n",
       "      <th>75%</th>\n",
       "      <td>9.119813e+17</td>\n",
       "    </tr>\n",
       "    <tr>\n",
       "      <th>max</th>\n",
       "      <td>9.223359e+18</td>\n",
       "    </tr>\n",
       "  </tbody>\n",
       "</table>\n",
       "</div>"
      ],
      "text/plain": [
       "            User ID\n",
       "count  3.126926e+07\n",
       "mean  -1.924043e+18\n",
       "std    4.514276e+18\n",
       "min   -9.223371e+18\n",
       "25%   -4.324476e+18\n",
       "50%   -4.324476e+18\n",
       "75%    9.119813e+17\n",
       "max    9.223359e+18"
      ]
     },
     "execution_count": 4,
     "metadata": {},
     "output_type": "execute_result"
    }
   ],
   "source": [
    "df.describe()"
   ]
  },
  {
   "cell_type": "markdown",
   "id": "992836ea",
   "metadata": {},
   "source": [
    "#### This code snippet provides a visual representation of the top 10 users with the highest number of login attempts. It helps in identifying the most active users based on login activity."
   ]
  },
  {
   "cell_type": "code",
   "execution_count": 5,
   "id": "ead385ee",
   "metadata": {},
   "outputs": [
    {
     "data": {
      "image/png": "[encoded data removed]",
      "text/plain": [
       "<Figure size 640x480 with 1 Axes>"
      ]
     },
     "metadata": {},
     "output_type": "display_data"
    }
   ],
   "source": [
    "login_attempts = df['User ID'].value_counts()\n",
    "top_10_users = login_attempts.head(20)\n",
    "sns.set(style='darkgrid')\n",
    "top_10_users.plot(kind='bar')\n",
    "\n",
    "plt.xlabel('User ID')\n",
    "plt.ylabel('Number of Login Attempts')\n",
    "plt.title('Top 20 Users - Login Attempts')\n",
    "plt.show()\n"
   ]
  },
  {
   "cell_type": "markdown",
   "id": "7c9e6e61",
   "metadata": {},
   "source": [
    "### We have identified a user with the ID \"-4324475583306591935\" who has an exceptionally high number of logins. In order to investigate this user further, we have conducted a comprehensive Exploratory Data Analysis (EDA) specifically focused on this user. \n",
    "\n",
    "## The detailed analysis and findings can be found in the file named \"outlier_user.ipynb\"."
   ]
  },
  {
   "cell_type": "code",
   "execution_count": 6,
   "id": "924e86af",
   "metadata": {},
   "outputs": [
    {
     "name": "stdout",
     "output_type": "stream",
     "text": [
      "<class 'pandas.core.frame.DataFrame'>\n",
      "RangeIndex: 31269264 entries, 0 to 31269263\n",
      "Data columns (total 9 columns):\n",
      " #   Column                    Dtype \n",
      "---  ------                    ----- \n",
      " 0   Login Timestamp           object\n",
      " 1   User ID                   int64 \n",
      " 2   IP Address                object\n",
      " 3   Country                   object\n",
      " 4   Region                    object\n",
      " 5   City                      object\n",
      " 6   Browser Name and Version  object\n",
      " 7   Device Type               object\n",
      " 8   Login Successful          bool  \n",
      "dtypes: bool(1), int64(1), object(7)\n",
      "memory usage: 1.9+ GB\n"
     ]
    }
   ],
   "source": [
    "df.info()"
   ]
  },
  {
   "cell_type": "markdown",
   "id": "9b9dd3d0",
   "metadata": {},
   "source": [
    "### The following code snippet is utilized to remove a specific user from the dataset, which results in improving the quality of the data for anomaly detection purposes. By eliminating this user, the dataset becomes more suitable for accurately identifying and analyzing anomalies."
   ]
  },
  {
   "cell_type": "code",
   "execution_count": 7,
   "id": "4236bd66",
   "metadata": {},
   "outputs": [
    {
     "name": "stdout",
     "output_type": "stream",
     "text": [
      "Number of unique users after removal: 4304856\n"
     ]
    }
   ],
   "source": [
    "# Find the user with the highest login frequency\n",
    "top_user_id = df['User ID'].value_counts().idxmax()\n",
    "\n",
    "# Remove all rows associated with the top user\n",
    "df.drop(df[df['User ID'] == top_user_id].index, inplace=True)\n",
    "\n",
    "# Verify the removal\n",
    "unique_users = df['User ID'].nunique()\n",
    "print(\"Number of unique users after removal:\", unique_users)"
   ]
  },
  {
   "cell_type": "code",
   "execution_count": 8,
   "id": "ceb07ba6",
   "metadata": {},
   "outputs": [
    {
     "name": "stdout",
     "output_type": "stream",
     "text": [
      "Number of unique users: 4304856\n",
      "Top 5 users by login frequency:\n",
      " 6998943612473066845    70028\n",
      "-7198559811247368245     6417\n",
      "-4652302824165996131     1927\n",
      "-2894367365566592989     1613\n",
      "-3031272205102765641     1537\n",
      " 4588325308801696666     1510\n",
      " 9009909461743844032     1475\n",
      "-7955135358862007287     1423\n",
      " 8306338755768072775     1367\n",
      "-8897190181838729192     1319\n",
      "Name: User ID, dtype: int64\n"
     ]
    }
   ],
   "source": [
    "# User activity analysis\n",
    "unique_users = df['User ID'].nunique()\n",
    "print(\"Number of unique users:\", unique_users)\n",
    "\n",
    "top_users = df['User ID'].value_counts().head(10)\n",
    "print(\"Top 5 users by login frequency:\")\n",
    "print(top_users)"
   ]
  },
  {
   "cell_type": "markdown",
   "id": "b1339cb3",
   "metadata": {},
   "source": [
    "### The following operation effectively removes the existing index and replaces it with a new index that ensures the rows are ordered sequentially.\n",
    "\n",
    "By using the drop=True parameter, the old index is discarded and not added as a new column in the DataFrame."
   ]
  },
  {
   "cell_type": "code",
   "execution_count": 9,
   "id": "821f9f46",
   "metadata": {},
   "outputs": [],
   "source": [
    "df = df.reset_index(drop=True)"
   ]
  },
  {
   "cell_type": "markdown",
   "id": "e9f8a531",
   "metadata": {},
   "source": [
    "### Knowing the shape of the dataset can assist in understanding the data's extent and potential complexity, aiding in further analysis and decision-making processes."
   ]
  },
  {
   "cell_type": "code",
   "execution_count": 10,
   "id": "a5675bc9",
   "metadata": {},
   "outputs": [
    {
     "data": {
      "text/plain": [
       "(17243365, 9)"
      ]
     },
     "execution_count": 10,
     "metadata": {},
     "output_type": "execute_result"
    }
   ],
   "source": [
    "df.shape"
   ]
  },
  {
   "cell_type": "markdown",
   "id": "b444b7e4",
   "metadata": {},
   "source": [
    "### We made the decision to temporarily remove the 'Region' and 'City' columns from our dataset. These columns were taking more time than anticipated to be utilized for exploratory data analysis (EDA). \n",
    "\n",
    "To explain our approach, we will utilize Logistic Regression to handle missing values and Regex to correct values that contain unique characters."
   ]
  },
  {
   "cell_type": "code",
   "execution_count": 11,
   "id": "b2bc2ffd",
   "metadata": {},
   "outputs": [
    {
     "data": {
      "text/html": [
       "<div>\n",
       "<style scoped>\n",
       "    .dataframe tbody tr th:only-of-type {\n",
       "        vertical-align: middle;\n",
       "    }\n",
       "\n",
       "    .dataframe tbody tr th {\n",
       "        vertical-align: top;\n",
       "    }\n",
       "\n",
       "    .dataframe thead th {\n",
       "        text-align: right;\n",
       "    }\n",
       "</style>\n",
       "<table border=\"1\" class=\"dataframe\">\n",
       "  <thead>\n",
       "    <tr style=\"text-align: right;\">\n",
       "      <th></th>\n",
       "      <th>Login Timestamp</th>\n",
       "      <th>User ID</th>\n",
       "      <th>IP Address</th>\n",
       "      <th>Country</th>\n",
       "      <th>Browser Name and Version</th>\n",
       "      <th>Device Type</th>\n",
       "      <th>Login Successful</th>\n",
       "    </tr>\n",
       "  </thead>\n",
       "  <tbody>\n",
       "    <tr>\n",
       "      <th>0</th>\n",
       "      <td>2020-02-03 12:43:55.873</td>\n",
       "      <td>-3284137479262433373</td>\n",
       "      <td>81.167.144.58</td>\n",
       "      <td>NO</td>\n",
       "      <td>Android 2.3.3.2672</td>\n",
       "      <td>mobile</td>\n",
       "      <td>True</td>\n",
       "    </tr>\n",
       "    <tr>\n",
       "      <th>1</th>\n",
       "      <td>2020-02-03 12:43:59.396</td>\n",
       "      <td>-4618854071942621186</td>\n",
       "      <td>10.0.0.47</td>\n",
       "      <td>US</td>\n",
       "      <td>Chrome Mobile WebView 85.0.4183</td>\n",
       "      <td>mobile</td>\n",
       "      <td>False</td>\n",
       "    </tr>\n",
       "    <tr>\n",
       "      <th>2</th>\n",
       "      <td>2020-02-03 12:44:07.893</td>\n",
       "      <td>7246533443898239661</td>\n",
       "      <td>80.202.228.214</td>\n",
       "      <td>NO</td>\n",
       "      <td>Chrome 69.0.3497.17.19</td>\n",
       "      <td>desktop</td>\n",
       "      <td>True</td>\n",
       "    </tr>\n",
       "    <tr>\n",
       "      <th>3</th>\n",
       "      <td>2020-02-03 12:44:12.799</td>\n",
       "      <td>-3243978724802435038</td>\n",
       "      <td>170.39.78.177</td>\n",
       "      <td>US</td>\n",
       "      <td>Chrome Mobile 81.0.4044.1931</td>\n",
       "      <td>mobile</td>\n",
       "      <td>False</td>\n",
       "    </tr>\n",
       "    <tr>\n",
       "      <th>4</th>\n",
       "      <td>2020-02-03 12:44:17.474</td>\n",
       "      <td>8076000552587369902</td>\n",
       "      <td>10.0.61.212</td>\n",
       "      <td>NO</td>\n",
       "      <td>MiuiBrowser 12.6.5</td>\n",
       "      <td>mobile</td>\n",
       "      <td>False</td>\n",
       "    </tr>\n",
       "  </tbody>\n",
       "</table>\n",
       "</div>"
      ],
      "text/plain": [
       "           Login Timestamp              User ID      IP Address Country  \\\n",
       "0  2020-02-03 12:43:55.873 -3284137479262433373   81.167.144.58      NO   \n",
       "1  2020-02-03 12:43:59.396 -4618854071942621186       10.0.0.47      US   \n",
       "2  2020-02-03 12:44:07.893  7246533443898239661  80.202.228.214      NO   \n",
       "3  2020-02-03 12:44:12.799 -3243978724802435038   170.39.78.177      US   \n",
       "4  2020-02-03 12:44:17.474  8076000552587369902     10.0.61.212      NO   \n",
       "\n",
       "          Browser Name and Version Device Type  Login Successful  \n",
       "0               Android 2.3.3.2672      mobile              True  \n",
       "1  Chrome Mobile WebView 85.0.4183      mobile             False  \n",
       "2           Chrome 69.0.3497.17.19     desktop              True  \n",
       "3     Chrome Mobile 81.0.4044.1931      mobile             False  \n",
       "4               MiuiBrowser 12.6.5      mobile             False  "
      ]
     },
     "execution_count": 11,
     "metadata": {},
     "output_type": "execute_result"
    }
   ],
   "source": [
    "df = df.drop(['Region', 'City'], axis=1)\n",
    "df.head()"
   ]
  },
  {
   "cell_type": "markdown",
   "id": "0cb1cc9d",
   "metadata": {},
   "source": [
    "### Checking the number of unique values for columns \"Country\", \"Device Type\" and \"Browser Name and Version\""
   ]
  },
  {
   "cell_type": "code",
   "execution_count": 15,
   "id": "8a18834e",
   "metadata": {},
   "outputs": [
    {
     "data": {
      "text/plain": [
       "Login Timestamp             17243290\n",
       "User ID                      4304856\n",
       "IP Address                   2569911\n",
       "Country                          217\n",
       "Browser Name and Version        3325\n",
       "Device Type                        5\n",
       "Login Successful                   2\n",
       "dtype: int64"
      ]
     },
     "execution_count": 15,
     "metadata": {},
     "output_type": "execute_result"
    }
   ],
   "source": [
    "df.nunique()"
   ]
  },
  {
   "cell_type": "markdown",
   "id": "47803994",
   "metadata": {},
   "source": [
    "### Removing Version from the column \"Browser Name and Version\" to scale values and categorize them, and then storing new values in column \"Browser Category\""
   ]
  },
  {
   "cell_type": "code",
   "execution_count": 16,
   "id": "fddfb6ef",
   "metadata": {},
   "outputs": [],
   "source": [
    "import re\n",
    "df['Browser Category'] = df['Browser Name and Version'].apply(lambda x: re.search(r'^\\D+', x).group() if re.search(r'^\\D+', x) else '')\n",
    "df = df.drop(['Browser Name and Version'], axis=1)"
   ]
  },
  {
   "cell_type": "markdown",
   "id": "ceb1c01d",
   "metadata": {},
   "source": [
    "### This code snippet performs the following operations:\n",
    "\n",
    "1. It creates a list called top_browsers by obtaining the top 22 most common values in the 'Browser Category' column of the DataFrame 'data'.\n",
    "\n",
    "2. It defines a list called bot_browsers that contains specific browser names associated with bots.\n",
    "\n",
    "3. It identifies the browser categories in the top_browsers list that contain any of the bot_browsers by performing a case-insensitive search. The identified bot browser categories are stored in the bot_browsers_top list.\n",
    "\n",
    "4. It removes the bot browser categories from the top_browsers list.\n",
    "\n",
    "5. It defines a function called categorize_browser that categorizes a given browser based on whether it belongs to the top_browsers, bot_browsers, or other categories.\n",
    "\n",
    "6. It updates the column called 'Browser Category' in the 'data' DataFrame by applying the categorize_browser function to the values in the 'Browser Category' column."
   ]
  },
  {
   "cell_type": "code",
   "execution_count": 17,
   "id": "b3676779",
   "metadata": {},
   "outputs": [],
   "source": [
    "top_browsers = df['Browser Category'].value_counts().head(22).index.tolist()\n",
    "\n",
    "# Defining the bot browser categories\n",
    "bot_browsers = ['bot', ' Bot', 'AwarioSmartBot', 'Bot Mac OS X', 'MetaJobBot', 'libwwwperl',\n",
    "                'MobileIron', 'Coc Coc', 'woobot', 'crawler_faq', 'Job Roboter',\n",
    "                'Keeper', 'BingPreview', 'Tablet Mac OS X', 'Nutch', 'curl', 'okhttp', 'Bot']\n",
    "\n",
    "# Identifing the bot browsers in the top browsers list\n",
    "bot_browsers_top = [browser for browser in top_browsers if any(bot.lower() in browser.lower() for bot in bot_browsers)]\n",
    "\n",
    "# Removing the bot browsers from the top browsers list\n",
    "top_browsers = [browser for browser in top_browsers if browser not in bot_browsers_top]\n",
    "\n",
    "# Creating a function to categorize the browser\n",
    "def categorize_browser(browser):\n",
    "    if browser in top_browsers:\n",
    "        return browser\n",
    "    elif any(keyword.lower() in browser.lower() for keyword in bot_browsers):\n",
    "        return 'Bot'\n",
    "    else:\n",
    "        return 'Others'\n",
    "\n",
    "# Updating the browser category column\n",
    "df['Browser Category'] = df['Browser Category'].apply(categorize_browser)"
   ]
  },
  {
   "cell_type": "code",
   "execution_count": 18,
   "id": "0f808cb8",
   "metadata": {},
   "outputs": [
    {
     "data": {
      "text/plain": [
       "array(['Android ', 'Chrome Mobile WebView ', 'Chrome ', 'Chrome Mobile ',\n",
       "       'MiuiBrowser ', 'Opera ', 'Firefox ', 'Opera Mobile ', 'Snapchat ',\n",
       "       'Edge ', 'IE Mobile ', 'Opera Mini ', 'Firefox Mobile ', 'Safari ',\n",
       "       'Mobile Safari UI/WKWebView ', 'Iron ', 'Chrome Mobile iOS ',\n",
       "       'Edge Mobile ', 'Samsung Internet ', 'Mobile Safari ', 'Others',\n",
       "       'UC Browser ', 'Bot'], dtype=object)"
      ]
     },
     "execution_count": 18,
     "metadata": {},
     "output_type": "execute_result"
    }
   ],
   "source": [
    "df[\"Browser Category\"].unique()"
   ]
  },
  {
   "cell_type": "code",
   "execution_count": 19,
   "id": "ae43270f",
   "metadata": {},
   "outputs": [
    {
     "data": {
      "text/html": [
       "<div>\n",
       "<style scoped>\n",
       "    .dataframe tbody tr th:only-of-type {\n",
       "        vertical-align: middle;\n",
       "    }\n",
       "\n",
       "    .dataframe tbody tr th {\n",
       "        vertical-align: top;\n",
       "    }\n",
       "\n",
       "    .dataframe thead th {\n",
       "        text-align: right;\n",
       "    }\n",
       "</style>\n",
       "<table border=\"1\" class=\"dataframe\">\n",
       "  <thead>\n",
       "    <tr style=\"text-align: right;\">\n",
       "      <th></th>\n",
       "      <th>Login Timestamp</th>\n",
       "      <th>User ID</th>\n",
       "      <th>IP Address</th>\n",
       "      <th>Country</th>\n",
       "      <th>Device Type</th>\n",
       "      <th>Login Successful</th>\n",
       "      <th>Browser Category</th>\n",
       "    </tr>\n",
       "  </thead>\n",
       "  <tbody>\n",
       "    <tr>\n",
       "      <th>0</th>\n",
       "      <td>2020-02-03 12:43:55.873</td>\n",
       "      <td>-3284137479262433373</td>\n",
       "      <td>81.167.144.58</td>\n",
       "      <td>NO</td>\n",
       "      <td>mobile</td>\n",
       "      <td>True</td>\n",
       "      <td>Android</td>\n",
       "    </tr>\n",
       "    <tr>\n",
       "      <th>1</th>\n",
       "      <td>2020-02-03 12:43:59.396</td>\n",
       "      <td>-4618854071942621186</td>\n",
       "      <td>10.0.0.47</td>\n",
       "      <td>US</td>\n",
       "      <td>mobile</td>\n",
       "      <td>False</td>\n",
       "      <td>Chrome Mobile WebView</td>\n",
       "    </tr>\n",
       "    <tr>\n",
       "      <th>2</th>\n",
       "      <td>2020-02-03 12:44:07.893</td>\n",
       "      <td>7246533443898239661</td>\n",
       "      <td>80.202.228.214</td>\n",
       "      <td>NO</td>\n",
       "      <td>desktop</td>\n",
       "      <td>True</td>\n",
       "      <td>Chrome</td>\n",
       "    </tr>\n",
       "    <tr>\n",
       "      <th>3</th>\n",
       "      <td>2020-02-03 12:44:12.799</td>\n",
       "      <td>-3243978724802435038</td>\n",
       "      <td>170.39.78.177</td>\n",
       "      <td>US</td>\n",
       "      <td>mobile</td>\n",
       "      <td>False</td>\n",
       "      <td>Chrome Mobile</td>\n",
       "    </tr>\n",
       "    <tr>\n",
       "      <th>4</th>\n",
       "      <td>2020-02-03 12:44:17.474</td>\n",
       "      <td>8076000552587369902</td>\n",
       "      <td>10.0.61.212</td>\n",
       "      <td>NO</td>\n",
       "      <td>mobile</td>\n",
       "      <td>False</td>\n",
       "      <td>MiuiBrowser</td>\n",
       "    </tr>\n",
       "  </tbody>\n",
       "</table>\n",
       "</div>"
      ],
      "text/plain": [
       "           Login Timestamp              User ID      IP Address Country  \\\n",
       "0  2020-02-03 12:43:55.873 -3284137479262433373   81.167.144.58      NO   \n",
       "1  2020-02-03 12:43:59.396 -4618854071942621186       10.0.0.47      US   \n",
       "2  2020-02-03 12:44:07.893  7246533443898239661  80.202.228.214      NO   \n",
       "3  2020-02-03 12:44:12.799 -3243978724802435038   170.39.78.177      US   \n",
       "4  2020-02-03 12:44:17.474  8076000552587369902     10.0.61.212      NO   \n",
       "\n",
       "  Device Type  Login Successful        Browser Category  \n",
       "0      mobile              True                Android   \n",
       "1      mobile             False  Chrome Mobile WebView   \n",
       "2     desktop              True                 Chrome   \n",
       "3      mobile             False          Chrome Mobile   \n",
       "4      mobile             False            MiuiBrowser   "
      ]
     },
     "execution_count": 19,
     "metadata": {},
     "output_type": "execute_result"
    }
   ],
   "source": [
    "df.head()"
   ]
  },
  {
   "cell_type": "markdown",
   "id": "56f0c571",
   "metadata": {},
   "source": [
    "### In this code, two new column named 'NumSuccessfulLogins' and 'NumUnuccessfulLogins' are added to the DataFrame df. The values in this column represent the total number of successful logins and total number of unsuccessful logins for each user respectivly."
   ]
  },
  {
   "cell_type": "code",
   "execution_count": 20,
   "id": "462c1080",
   "metadata": {},
   "outputs": [],
   "source": [
    "df['NumSuccessfulLogins'] = df.groupby('User ID')['Login Successful'].transform('sum')\n",
    "\n",
    "# Grouping the data by \"User ID\" and count the number of False values in \"Login Successful\"\n",
    "false_counts = df[df['Login Successful'] == False].groupby('User ID').size().reset_index(name='NumUnsuccessfulLogins')\n",
    "\n",
    "# Merging the false_counts DataFrame with the original data\n",
    "df = df.merge(false_counts, on='User ID', how='left')\n",
    "\n",
    "# Filling NaN values in the new column with 0\n",
    "df['NumUnsuccessfulLogins'] = df['NumUnsuccessfulLogins'].fillna(0)\n",
    "\n",
    "# Converting the values in the \"False Count\" column to integers\n",
    "df['NumUnsuccessfulLogins'] = df['NumUnsuccessfulLogins'].astype(int)"
   ]
  },
  {
   "cell_type": "code",
   "execution_count": 21,
   "id": "91050a1f",
   "metadata": {},
   "outputs": [
    {
     "data": {
      "text/html": [
       "<div>\n",
       "<style scoped>\n",
       "    .dataframe tbody tr th:only-of-type {\n",
       "        vertical-align: middle;\n",
       "    }\n",
       "\n",
       "    .dataframe tbody tr th {\n",
       "        vertical-align: top;\n",
       "    }\n",
       "\n",
       "    .dataframe thead th {\n",
       "        text-align: right;\n",
       "    }\n",
       "</style>\n",
       "<table border=\"1\" class=\"dataframe\">\n",
       "  <thead>\n",
       "    <tr style=\"text-align: right;\">\n",
       "      <th></th>\n",
       "      <th>Login Timestamp</th>\n",
       "      <th>User ID</th>\n",
       "      <th>IP Address</th>\n",
       "      <th>Country</th>\n",
       "      <th>Device Type</th>\n",
       "      <th>Login Successful</th>\n",
       "      <th>Browser Category</th>\n",
       "      <th>NumSuccessfulLogins</th>\n",
       "      <th>NumUnsuccessfulLogins</th>\n",
       "    </tr>\n",
       "  </thead>\n",
       "  <tbody>\n",
       "    <tr>\n",
       "      <th>0</th>\n",
       "      <td>2020-02-03 12:43:55.873</td>\n",
       "      <td>-3284137479262433373</td>\n",
       "      <td>81.167.144.58</td>\n",
       "      <td>NO</td>\n",
       "      <td>mobile</td>\n",
       "      <td>True</td>\n",
       "      <td>Android</td>\n",
       "      <td>19</td>\n",
       "      <td>1</td>\n",
       "    </tr>\n",
       "    <tr>\n",
       "      <th>1</th>\n",
       "      <td>2020-02-03 12:43:59.396</td>\n",
       "      <td>-4618854071942621186</td>\n",
       "      <td>10.0.0.47</td>\n",
       "      <td>US</td>\n",
       "      <td>mobile</td>\n",
       "      <td>False</td>\n",
       "      <td>Chrome Mobile WebView</td>\n",
       "      <td>1</td>\n",
       "      <td>2</td>\n",
       "    </tr>\n",
       "    <tr>\n",
       "      <th>2</th>\n",
       "      <td>2020-02-03 12:44:07.893</td>\n",
       "      <td>7246533443898239661</td>\n",
       "      <td>80.202.228.214</td>\n",
       "      <td>NO</td>\n",
       "      <td>desktop</td>\n",
       "      <td>True</td>\n",
       "      <td>Chrome</td>\n",
       "      <td>4</td>\n",
       "      <td>4</td>\n",
       "    </tr>\n",
       "    <tr>\n",
       "      <th>3</th>\n",
       "      <td>2020-02-03 12:44:12.799</td>\n",
       "      <td>-3243978724802435038</td>\n",
       "      <td>170.39.78.177</td>\n",
       "      <td>US</td>\n",
       "      <td>mobile</td>\n",
       "      <td>False</td>\n",
       "      <td>Chrome Mobile</td>\n",
       "      <td>2</td>\n",
       "      <td>3</td>\n",
       "    </tr>\n",
       "    <tr>\n",
       "      <th>4</th>\n",
       "      <td>2020-02-03 12:44:17.474</td>\n",
       "      <td>8076000552587369902</td>\n",
       "      <td>10.0.61.212</td>\n",
       "      <td>NO</td>\n",
       "      <td>mobile</td>\n",
       "      <td>False</td>\n",
       "      <td>MiuiBrowser</td>\n",
       "      <td>531</td>\n",
       "      <td>4</td>\n",
       "    </tr>\n",
       "  </tbody>\n",
       "</table>\n",
       "</div>"
      ],
      "text/plain": [
       "           Login Timestamp              User ID      IP Address Country  \\\n",
       "0  2020-02-03 12:43:55.873 -3284137479262433373   81.167.144.58      NO   \n",
       "1  2020-02-03 12:43:59.396 -4618854071942621186       10.0.0.47      US   \n",
       "2  2020-02-03 12:44:07.893  7246533443898239661  80.202.228.214      NO   \n",
       "3  2020-02-03 12:44:12.799 -3243978724802435038   170.39.78.177      US   \n",
       "4  2020-02-03 12:44:17.474  8076000552587369902     10.0.61.212      NO   \n",
       "\n",
       "  Device Type  Login Successful        Browser Category  NumSuccessfulLogins  \\\n",
       "0      mobile              True                Android                    19   \n",
       "1      mobile             False  Chrome Mobile WebView                     1   \n",
       "2     desktop              True                 Chrome                     4   \n",
       "3      mobile             False          Chrome Mobile                     2   \n",
       "4      mobile             False            MiuiBrowser                   531   \n",
       "\n",
       "   NumUnsuccessfulLogins  \n",
       "0                      1  \n",
       "1                      2  \n",
       "2                      4  \n",
       "3                      3  \n",
       "4                      4  "
      ]
     },
     "execution_count": 21,
     "metadata": {},
     "output_type": "execute_result"
    }
   ],
   "source": [
    "df.head()"
   ]
  },
  {
   "cell_type": "markdown",
   "id": "10d87c57",
   "metadata": {},
   "source": [
    "The code snippet updates the 'Num Successful Logins' column in the DataFrame 'data' by replacing any occurrences of 0 with 1."
   ]
  },
  {
   "cell_type": "code",
   "execution_count": 22,
   "id": "a784d2b9",
   "metadata": {},
   "outputs": [],
   "source": [
    "df['NumSuccessfulLogins'] = df['NumSuccessfulLogins'].replace(0, 1)"
   ]
  },
  {
   "cell_type": "markdown",
   "id": "5e4c94b1",
   "metadata": {},
   "source": [
    "### The code snippet adds a new column called 'LoginRatio' to the DataFrame 'df'. It calculates the ratio of the number of unsuccessful logins to the number of successful logins for each row in the DataFrame. \n",
    "\n",
    "The line df['LoginRatio'].replace(np.inf, 0, inplace=True) replaces any infinite values (if any) in the 'LoginRatio' column with 0. This is done to handle cases where the number of successful logins is 0, resulting in division by zero and producing an infinite value. "
   ]
  },
  {
   "cell_type": "code",
   "execution_count": null,
   "id": "3c044dc5",
   "metadata": {},
   "outputs": [],
   "source": []
  },
  {
   "cell_type": "code",
   "execution_count": null,
   "id": "ebd6dcdf",
   "metadata": {},
   "outputs": [],
   "source": []
  },
  {
   "cell_type": "code",
   "execution_count": null,
   "id": "eb6435b9",
   "metadata": {},
   "outputs": [],
   "source": []
  },
  {
   "cell_type": "code",
   "execution_count": null,
   "id": "df4d3778",
   "metadata": {},
   "outputs": [],
   "source": []
  },
  {
   "cell_type": "code",
   "execution_count": 23,
   "id": "8ad250ef",
   "metadata": {},
   "outputs": [],
   "source": [
    "df['LoginRatio'] = df['NumUnsuccessfulLogins'] / df['NumSuccessfulLogins']\n",
    "df['LoginRatio'].replace(np.inf, 0, inplace=True)"
   ]
  },
  {
   "cell_type": "markdown",
   "id": "70b77d85",
   "metadata": {},
   "source": [
    "Dropping these columns as they are no longer needed."
   ]
  },
  {
   "cell_type": "code",
   "execution_count": 24,
   "id": "45a9ab14",
   "metadata": {},
   "outputs": [],
   "source": [
    "df = df.drop(['NumSuccessfulLogins', 'NumUnsuccessfulLogins'], axis = 1)"
   ]
  },
  {
   "cell_type": "code",
   "execution_count": 25,
   "id": "b46d3862",
   "metadata": {},
   "outputs": [
    {
     "data": {
      "text/html": [
       "<div>\n",
       "<style scoped>\n",
       "    .dataframe tbody tr th:only-of-type {\n",
       "        vertical-align: middle;\n",
       "    }\n",
       "\n",
       "    .dataframe tbody tr th {\n",
       "        vertical-align: top;\n",
       "    }\n",
       "\n",
       "    .dataframe thead th {\n",
       "        text-align: right;\n",
       "    }\n",
       "</style>\n",
       "<table border=\"1\" class=\"dataframe\">\n",
       "  <thead>\n",
       "    <tr style=\"text-align: right;\">\n",
       "      <th></th>\n",
       "      <th>Login Timestamp</th>\n",
       "      <th>User ID</th>\n",
       "      <th>IP Address</th>\n",
       "      <th>Country</th>\n",
       "      <th>Device Type</th>\n",
       "      <th>Login Successful</th>\n",
       "      <th>Browser Category</th>\n",
       "      <th>LoginRatio</th>\n",
       "    </tr>\n",
       "  </thead>\n",
       "  <tbody>\n",
       "    <tr>\n",
       "      <th>0</th>\n",
       "      <td>2020-02-03 12:43:55.873</td>\n",
       "      <td>-3284137479262433373</td>\n",
       "      <td>81.167.144.58</td>\n",
       "      <td>NO</td>\n",
       "      <td>mobile</td>\n",
       "      <td>True</td>\n",
       "      <td>Android</td>\n",
       "      <td>0.052632</td>\n",
       "    </tr>\n",
       "    <tr>\n",
       "      <th>1</th>\n",
       "      <td>2020-02-03 12:43:59.396</td>\n",
       "      <td>-4618854071942621186</td>\n",
       "      <td>10.0.0.47</td>\n",
       "      <td>US</td>\n",
       "      <td>mobile</td>\n",
       "      <td>False</td>\n",
       "      <td>Chrome Mobile WebView</td>\n",
       "      <td>2.000000</td>\n",
       "    </tr>\n",
       "    <tr>\n",
       "      <th>2</th>\n",
       "      <td>2020-02-03 12:44:07.893</td>\n",
       "      <td>7246533443898239661</td>\n",
       "      <td>80.202.228.214</td>\n",
       "      <td>NO</td>\n",
       "      <td>desktop</td>\n",
       "      <td>True</td>\n",
       "      <td>Chrome</td>\n",
       "      <td>1.000000</td>\n",
       "    </tr>\n",
       "    <tr>\n",
       "      <th>3</th>\n",
       "      <td>2020-02-03 12:44:12.799</td>\n",
       "      <td>-3243978724802435038</td>\n",
       "      <td>170.39.78.177</td>\n",
       "      <td>US</td>\n",
       "      <td>mobile</td>\n",
       "      <td>False</td>\n",
       "      <td>Chrome Mobile</td>\n",
       "      <td>1.500000</td>\n",
       "    </tr>\n",
       "    <tr>\n",
       "      <th>4</th>\n",
       "      <td>2020-02-03 12:44:17.474</td>\n",
       "      <td>8076000552587369902</td>\n",
       "      <td>10.0.61.212</td>\n",
       "      <td>NO</td>\n",
       "      <td>mobile</td>\n",
       "      <td>False</td>\n",
       "      <td>MiuiBrowser</td>\n",
       "      <td>0.007533</td>\n",
       "    </tr>\n",
       "  </tbody>\n",
       "</table>\n",
       "</div>"
      ],
      "text/plain": [
       "           Login Timestamp              User ID      IP Address Country  \\\n",
       "0  2020-02-03 12:43:55.873 -3284137479262433373   81.167.144.58      NO   \n",
       "1  2020-02-03 12:43:59.396 -4618854071942621186       10.0.0.47      US   \n",
       "2  2020-02-03 12:44:07.893  7246533443898239661  80.202.228.214      NO   \n",
       "3  2020-02-03 12:44:12.799 -3243978724802435038   170.39.78.177      US   \n",
       "4  2020-02-03 12:44:17.474  8076000552587369902     10.0.61.212      NO   \n",
       "\n",
       "  Device Type  Login Successful        Browser Category  LoginRatio  \n",
       "0      mobile              True                Android     0.052632  \n",
       "1      mobile             False  Chrome Mobile WebView     2.000000  \n",
       "2     desktop              True                 Chrome     1.000000  \n",
       "3      mobile             False          Chrome Mobile     1.500000  \n",
       "4      mobile             False            MiuiBrowser     0.007533  "
      ]
     },
     "execution_count": 25,
     "metadata": {},
     "output_type": "execute_result"
    }
   ],
   "source": [
    "df.head()"
   ]
  },
  {
   "cell_type": "markdown",
   "id": "e1eb3e84",
   "metadata": {},
   "source": [
    "### Checking the coloumn \"Device Types\" for categorization"
   ]
  },
  {
   "cell_type": "code",
   "execution_count": 26,
   "id": "0296f282",
   "metadata": {},
   "outputs": [
    {
     "data": {
      "text/plain": [
       "array(['mobile', 'desktop', 'tablet', 'unknown', nan, 'bot'], dtype=object)"
      ]
     },
     "execution_count": 26,
     "metadata": {},
     "output_type": "execute_result"
    }
   ],
   "source": [
    "df['Device Type'].unique()"
   ]
  },
  {
   "cell_type": "markdown",
   "id": "3ab16471",
   "metadata": {},
   "source": [
    "#### This code snippet replaces missing values with 'unknown', and then further replaces any instances of 'unknown' with 'other' if they were present."
   ]
  },
  {
   "cell_type": "code",
   "execution_count": 27,
   "id": "bc3f4197",
   "metadata": {},
   "outputs": [],
   "source": [
    "df['Device Type'] = df['Device Type'].fillna('unknown')\n",
    "df['Device Type'] = df['Device Type'].replace('unknown', 'other')"
   ]
  },
  {
   "cell_type": "code",
   "execution_count": 28,
   "id": "ed19a65d",
   "metadata": {},
   "outputs": [
    {
     "data": {
      "text/plain": [
       "array(['mobile', 'desktop', 'tablet', 'other', 'bot'], dtype=object)"
      ]
     },
     "execution_count": 28,
     "metadata": {},
     "output_type": "execute_result"
    }
   ],
   "source": [
    "df['Device Type'].unique()"
   ]
  },
  {
   "cell_type": "code",
   "execution_count": 29,
   "id": "9a2a4383",
   "metadata": {},
   "outputs": [
    {
     "data": {
      "text/plain": [
       "Login Timestamp     17243290\n",
       "User ID              4304856\n",
       "IP Address           2569911\n",
       "Country                  217\n",
       "Device Type                5\n",
       "Login Successful           2\n",
       "Browser Category          23\n",
       "LoginRatio              2863\n",
       "dtype: int64"
      ]
     },
     "execution_count": 29,
     "metadata": {},
     "output_type": "execute_result"
    }
   ],
   "source": [
    "df.nunique()"
   ]
  },
  {
   "cell_type": "code",
   "execution_count": 30,
   "id": "0728af4e",
   "metadata": {},
   "outputs": [
    {
     "data": {
      "text/plain": [
       "Login Timestamp     0\n",
       "User ID             0\n",
       "IP Address          0\n",
       "Country             0\n",
       "Device Type         0\n",
       "Login Successful    0\n",
       "Browser Category    0\n",
       "LoginRatio          0\n",
       "dtype: int64"
      ]
     },
     "execution_count": 30,
     "metadata": {},
     "output_type": "execute_result"
    }
   ],
   "source": [
    "df.isnull().sum()"
   ]
  },
  {
   "cell_type": "markdown",
   "id": "a6f518c9",
   "metadata": {},
   "source": [
    "### Calculating count of each column for each user -"
   ]
  },
  {
   "cell_type": "markdown",
   "id": "8133b5fc",
   "metadata": {},
   "source": [
    "#### The following code calculates the total number of different device types used by each user and adds the result as a new column called 'Total Devices Per User'."
   ]
  },
  {
   "cell_type": "code",
   "execution_count": 31,
   "id": "72881a69",
   "metadata": {},
   "outputs": [],
   "source": [
    "# Calculating the total number of different device types used by each user\n",
    "device_counts = df.groupby('User ID')['Device Type'].transform('nunique')\n",
    "\n",
    "# Adding the column to the DataFrame\n",
    "df['Total Devices Per User'] = device_counts"
   ]
  },
  {
   "cell_type": "markdown",
   "id": "8c9b6ab7",
   "metadata": {},
   "source": [
    "#### The following code calculates the total number of different IP addresses used by each user and adds the result as a new column called 'Total IP Addresses Per User'."
   ]
  },
  {
   "cell_type": "code",
   "execution_count": 32,
   "id": "4ff0cb47",
   "metadata": {},
   "outputs": [],
   "source": [
    "# Calculating the total number of different IP addresses used by each user\n",
    "ip_counts = df.groupby('User ID')['IP Address'].transform('nunique')\n",
    "\n",
    "# Adding the column to the DataFrame\n",
    "df['Total IP Addresses Per User'] = ip_counts"
   ]
  },
  {
   "cell_type": "markdown",
   "id": "2b615196",
   "metadata": {},
   "source": [
    "#### The following code calculates the total number of different countries visited by each user and adds the result as a new column called 'Total Countries Per User'."
   ]
  },
  {
   "cell_type": "code",
   "execution_count": 33,
   "id": "c673aa56",
   "metadata": {},
   "outputs": [],
   "source": [
    "# Calculating the total number of different countries visited by each user\n",
    "country_counts = df.groupby('User ID')['Country'].transform('nunique')\n",
    "\n",
    "# Adding the column to the DataFrame\n",
    "df['Total Countries Per User'] = country_counts"
   ]
  },
  {
   "cell_type": "markdown",
   "id": "23f2df2f",
   "metadata": {},
   "source": [
    "#### The code snippet you provided calculates the total number of different browser categories used. It then adds the result as a new column called 'Total Browser Categories Per User' to the DataFrame."
   ]
  },
  {
   "cell_type": "code",
   "execution_count": 34,
   "id": "27ac7943",
   "metadata": {},
   "outputs": [],
   "source": [
    "# Calculating the total number of different browser categories used by each user\n",
    "browser_counts = df.groupby('User ID')['Browser Category'].transform('nunique')\n",
    "\n",
    "# Add the 'Total Browser Categories' column to the DataFrame\n",
    "df['Total Browser Categories Per User'] = browser_counts\n"
   ]
  },
  {
   "cell_type": "code",
   "execution_count": 35,
   "id": "a6f27512",
   "metadata": {},
   "outputs": [
    {
     "data": {
      "text/html": [
       "<div>\n",
       "<style scoped>\n",
       "    .dataframe tbody tr th:only-of-type {\n",
       "        vertical-align: middle;\n",
       "    }\n",
       "\n",
       "    .dataframe tbody tr th {\n",
       "        vertical-align: top;\n",
       "    }\n",
       "\n",
       "    .dataframe thead th {\n",
       "        text-align: right;\n",
       "    }\n",
       "</style>\n",
       "<table border=\"1\" class=\"dataframe\">\n",
       "  <thead>\n",
       "    <tr style=\"text-align: right;\">\n",
       "      <th></th>\n",
       "      <th>Login Timestamp</th>\n",
       "      <th>User ID</th>\n",
       "      <th>IP Address</th>\n",
       "      <th>Country</th>\n",
       "      <th>Device Type</th>\n",
       "      <th>Login Successful</th>\n",
       "      <th>Browser Category</th>\n",
       "      <th>LoginRatio</th>\n",
       "      <th>Total Devices Per User</th>\n",
       "      <th>Total IP Addresses Per User</th>\n",
       "      <th>Total Countries Per User</th>\n",
       "      <th>Total Browser Categories Per User</th>\n",
       "    </tr>\n",
       "  </thead>\n",
       "  <tbody>\n",
       "    <tr>\n",
       "      <th>0</th>\n",
       "      <td>2020-02-03 12:43:55.873</td>\n",
       "      <td>-3284137479262433373</td>\n",
       "      <td>81.167.144.58</td>\n",
       "      <td>NO</td>\n",
       "      <td>mobile</td>\n",
       "      <td>True</td>\n",
       "      <td>Android</td>\n",
       "      <td>0.052632</td>\n",
       "      <td>2</td>\n",
       "      <td>6</td>\n",
       "      <td>1</td>\n",
       "      <td>4</td>\n",
       "    </tr>\n",
       "    <tr>\n",
       "      <th>1</th>\n",
       "      <td>2020-02-03 12:43:59.396</td>\n",
       "      <td>-4618854071942621186</td>\n",
       "      <td>10.0.0.47</td>\n",
       "      <td>US</td>\n",
       "      <td>mobile</td>\n",
       "      <td>False</td>\n",
       "      <td>Chrome Mobile WebView</td>\n",
       "      <td>2.000000</td>\n",
       "      <td>1</td>\n",
       "      <td>1</td>\n",
       "      <td>1</td>\n",
       "      <td>1</td>\n",
       "    </tr>\n",
       "    <tr>\n",
       "      <th>2</th>\n",
       "      <td>2020-02-03 12:44:07.893</td>\n",
       "      <td>7246533443898239661</td>\n",
       "      <td>80.202.228.214</td>\n",
       "      <td>NO</td>\n",
       "      <td>desktop</td>\n",
       "      <td>True</td>\n",
       "      <td>Chrome</td>\n",
       "      <td>1.000000</td>\n",
       "      <td>2</td>\n",
       "      <td>3</td>\n",
       "      <td>1</td>\n",
       "      <td>2</td>\n",
       "    </tr>\n",
       "    <tr>\n",
       "      <th>3</th>\n",
       "      <td>2020-02-03 12:44:12.799</td>\n",
       "      <td>-3243978724802435038</td>\n",
       "      <td>170.39.78.177</td>\n",
       "      <td>US</td>\n",
       "      <td>mobile</td>\n",
       "      <td>False</td>\n",
       "      <td>Chrome Mobile</td>\n",
       "      <td>1.500000</td>\n",
       "      <td>1</td>\n",
       "      <td>2</td>\n",
       "      <td>1</td>\n",
       "      <td>1</td>\n",
       "    </tr>\n",
       "    <tr>\n",
       "      <th>4</th>\n",
       "      <td>2020-02-03 12:44:17.474</td>\n",
       "      <td>8076000552587369902</td>\n",
       "      <td>10.0.61.212</td>\n",
       "      <td>NO</td>\n",
       "      <td>mobile</td>\n",
       "      <td>False</td>\n",
       "      <td>MiuiBrowser</td>\n",
       "      <td>0.007533</td>\n",
       "      <td>2</td>\n",
       "      <td>221</td>\n",
       "      <td>1</td>\n",
       "      <td>4</td>\n",
       "    </tr>\n",
       "  </tbody>\n",
       "</table>\n",
       "</div>"
      ],
      "text/plain": [
       "           Login Timestamp              User ID      IP Address Country  \\\n",
       "0  2020-02-03 12:43:55.873 -3284137479262433373   81.167.144.58      NO   \n",
       "1  2020-02-03 12:43:59.396 -4618854071942621186       10.0.0.47      US   \n",
       "2  2020-02-03 12:44:07.893  7246533443898239661  80.202.228.214      NO   \n",
       "3  2020-02-03 12:44:12.799 -3243978724802435038   170.39.78.177      US   \n",
       "4  2020-02-03 12:44:17.474  8076000552587369902     10.0.61.212      NO   \n",
       "\n",
       "  Device Type  Login Successful        Browser Category  LoginRatio  \\\n",
       "0      mobile              True                Android     0.052632   \n",
       "1      mobile             False  Chrome Mobile WebView     2.000000   \n",
       "2     desktop              True                 Chrome     1.000000   \n",
       "3      mobile             False          Chrome Mobile     1.500000   \n",
       "4      mobile             False            MiuiBrowser     0.007533   \n",
       "\n",
       "   Total Devices Per User  Total IP Addresses Per User  \\\n",
       "0                       2                            6   \n",
       "1                       1                            1   \n",
       "2                       2                            3   \n",
       "3                       1                            2   \n",
       "4                       2                          221   \n",
       "\n",
       "   Total Countries Per User  Total Browser Categories Per User  \n",
       "0                         1                                  4  \n",
       "1                         1                                  1  \n",
       "2                         1                                  2  \n",
       "3                         1                                  1  \n",
       "4                         1                                  4  "
      ]
     },
     "execution_count": 35,
     "metadata": {},
     "output_type": "execute_result"
    }
   ],
   "source": [
    "df.head()"
   ]
  },
  {
   "cell_type": "code",
   "execution_count": 36,
   "id": "90d6fbb8",
   "metadata": {},
   "outputs": [
    {
     "data": {
      "text/plain": [
       "(17243365, 12)"
      ]
     },
     "execution_count": 36,
     "metadata": {},
     "output_type": "execute_result"
    }
   ],
   "source": [
    "df.shape"
   ]
  },
  {
   "cell_type": "markdown",
   "id": "cfc61086",
   "metadata": {},
   "source": [
    "### This code snippet performs several operations on the DataFrame. \n",
    "\n",
    "It first converts the 'Login Timestamp' column to datetime format. \n",
    "\n",
    "Then, it sorts the DataFrame by 'Login Timestamp' within each user, ensuring that the data is arranged in ascending order of login timestamps for each user. \n",
    "\n",
    "Next, it calculates the time difference between consecutive login attempts for each user by taking the difference of login timestamps within each user group. \n",
    "\n",
    "Finally, it fills any missing values (represented as NaT) in the 'Time Difference' column with 0 for users who have only one login attempt, using the fillna() function. \n",
    "\n",
    "Overall, the code provides insights into the time intervals between login attempts for each user in the DataFrame."
   ]
  },
  {
   "cell_type": "code",
   "execution_count": 37,
   "id": "df128474",
   "metadata": {},
   "outputs": [],
   "source": [
    "# Converting the 'Login Timestamp' column to datetime format\n",
    "df['Login Timestamp'] = pd.to_datetime(df['Login Timestamp'])\n",
    "\n",
    "# Sorting the data by 'Login Timestamp' within each user\n",
    "df.sort_values(['User ID', 'Login Timestamp'], inplace=True)\n",
    "\n",
    "# Calculating the login time difference until the next attempt for each user\n",
    "df['Time Difference'] = df.groupby('User ID')['Login Timestamp'].diff()\n",
    "\n",
    "# Replacing NaT values with 0 for users with only one attempt\n",
    "df['Time Difference'] = df['Time Difference'].fillna(pd.Timedelta(seconds=0))"
   ]
  },
  {
   "cell_type": "markdown",
   "id": "daa5b952",
   "metadata": {},
   "source": [
    "#### This operations ensure that the DataFrame is sorted based on the 'Login Timestamp' column."
   ]
  },
  {
   "cell_type": "code",
   "execution_count": 38,
   "id": "a1de4bf7",
   "metadata": {},
   "outputs": [
    {
     "data": {
      "text/html": [
       "<div>\n",
       "<style scoped>\n",
       "    .dataframe tbody tr th:only-of-type {\n",
       "        vertical-align: middle;\n",
       "    }\n",
       "\n",
       "    .dataframe tbody tr th {\n",
       "        vertical-align: top;\n",
       "    }\n",
       "\n",
       "    .dataframe thead th {\n",
       "        text-align: right;\n",
       "    }\n",
       "</style>\n",
       "<table border=\"1\" class=\"dataframe\">\n",
       "  <thead>\n",
       "    <tr style=\"text-align: right;\">\n",
       "      <th></th>\n",
       "      <th>Login Timestamp</th>\n",
       "      <th>User ID</th>\n",
       "      <th>IP Address</th>\n",
       "      <th>Country</th>\n",
       "      <th>Device Type</th>\n",
       "      <th>Login Successful</th>\n",
       "      <th>Browser Category</th>\n",
       "      <th>LoginRatio</th>\n",
       "      <th>Total Devices Per User</th>\n",
       "      <th>Total IP Addresses Per User</th>\n",
       "      <th>Total Countries Per User</th>\n",
       "      <th>Total Browser Categories Per User</th>\n",
       "      <th>Time Difference</th>\n",
       "    </tr>\n",
       "  </thead>\n",
       "  <tbody>\n",
       "    <tr>\n",
       "      <th>0</th>\n",
       "      <td>2020-02-03 12:43:55.873</td>\n",
       "      <td>-3284137479262433373</td>\n",
       "      <td>81.167.144.58</td>\n",
       "      <td>NO</td>\n",
       "      <td>mobile</td>\n",
       "      <td>True</td>\n",
       "      <td>Android</td>\n",
       "      <td>0.052632</td>\n",
       "      <td>2</td>\n",
       "      <td>6</td>\n",
       "      <td>1</td>\n",
       "      <td>4</td>\n",
       "      <td>0 days</td>\n",
       "    </tr>\n",
       "    <tr>\n",
       "      <th>1</th>\n",
       "      <td>2020-02-03 12:43:59.396</td>\n",
       "      <td>-4618854071942621186</td>\n",
       "      <td>10.0.0.47</td>\n",
       "      <td>US</td>\n",
       "      <td>mobile</td>\n",
       "      <td>False</td>\n",
       "      <td>Chrome Mobile WebView</td>\n",
       "      <td>2.000000</td>\n",
       "      <td>1</td>\n",
       "      <td>1</td>\n",
       "      <td>1</td>\n",
       "      <td>1</td>\n",
       "      <td>0 days</td>\n",
       "    </tr>\n",
       "    <tr>\n",
       "      <th>2</th>\n",
       "      <td>2020-02-03 12:44:07.893</td>\n",
       "      <td>7246533443898239661</td>\n",
       "      <td>80.202.228.214</td>\n",
       "      <td>NO</td>\n",
       "      <td>desktop</td>\n",
       "      <td>True</td>\n",
       "      <td>Chrome</td>\n",
       "      <td>1.000000</td>\n",
       "      <td>2</td>\n",
       "      <td>3</td>\n",
       "      <td>1</td>\n",
       "      <td>2</td>\n",
       "      <td>0 days</td>\n",
       "    </tr>\n",
       "    <tr>\n",
       "      <th>3</th>\n",
       "      <td>2020-02-03 12:44:12.799</td>\n",
       "      <td>-3243978724802435038</td>\n",
       "      <td>170.39.78.177</td>\n",
       "      <td>US</td>\n",
       "      <td>mobile</td>\n",
       "      <td>False</td>\n",
       "      <td>Chrome Mobile</td>\n",
       "      <td>1.500000</td>\n",
       "      <td>1</td>\n",
       "      <td>2</td>\n",
       "      <td>1</td>\n",
       "      <td>1</td>\n",
       "      <td>0 days</td>\n",
       "    </tr>\n",
       "    <tr>\n",
       "      <th>4</th>\n",
       "      <td>2020-02-03 12:44:17.474</td>\n",
       "      <td>8076000552587369902</td>\n",
       "      <td>10.0.61.212</td>\n",
       "      <td>NO</td>\n",
       "      <td>mobile</td>\n",
       "      <td>False</td>\n",
       "      <td>MiuiBrowser</td>\n",
       "      <td>0.007533</td>\n",
       "      <td>2</td>\n",
       "      <td>221</td>\n",
       "      <td>1</td>\n",
       "      <td>4</td>\n",
       "      <td>0 days</td>\n",
       "    </tr>\n",
       "  </tbody>\n",
       "</table>\n",
       "</div>"
      ],
      "text/plain": [
       "          Login Timestamp              User ID      IP Address Country  \\\n",
       "0 2020-02-03 12:43:55.873 -3284137479262433373   81.167.144.58      NO   \n",
       "1 2020-02-03 12:43:59.396 -4618854071942621186       10.0.0.47      US   \n",
       "2 2020-02-03 12:44:07.893  7246533443898239661  80.202.228.214      NO   \n",
       "3 2020-02-03 12:44:12.799 -3243978724802435038   170.39.78.177      US   \n",
       "4 2020-02-03 12:44:17.474  8076000552587369902     10.0.61.212      NO   \n",
       "\n",
       "  Device Type  Login Successful        Browser Category  LoginRatio  \\\n",
       "0      mobile              True                Android     0.052632   \n",
       "1      mobile             False  Chrome Mobile WebView     2.000000   \n",
       "2     desktop              True                 Chrome     1.000000   \n",
       "3      mobile             False          Chrome Mobile     1.500000   \n",
       "4      mobile             False            MiuiBrowser     0.007533   \n",
       "\n",
       "   Total Devices Per User  Total IP Addresses Per User  \\\n",
       "0                       2                            6   \n",
       "1                       1                            1   \n",
       "2                       2                            3   \n",
       "3                       1                            2   \n",
       "4                       2                          221   \n",
       "\n",
       "   Total Countries Per User  Total Browser Categories Per User Time Difference  \n",
       "0                         1                                  4          0 days  \n",
       "1                         1                                  1          0 days  \n",
       "2                         1                                  2          0 days  \n",
       "3                         1                                  1          0 days  \n",
       "4                         1                                  4          0 days  "
      ]
     },
     "execution_count": 38,
     "metadata": {},
     "output_type": "execute_result"
    }
   ],
   "source": [
    "df = df.sort_values('Login Timestamp')\n",
    "df.head()"
   ]
  },
  {
   "cell_type": "markdown",
   "id": "bba27c89",
   "metadata": {},
   "source": [
    "#### This code takes a column named 'Time Difference' in the DataFrame df and converts its values from a time difference format (e.g., '00:05:30') to the equivalent number of seconds."
   ]
  },
  {
   "cell_type": "code",
   "execution_count": 39,
   "id": "9899703e",
   "metadata": {},
   "outputs": [
    {
     "data": {
      "text/html": [
       "<div>\n",
       "<style scoped>\n",
       "    .dataframe tbody tr th:only-of-type {\n",
       "        vertical-align: middle;\n",
       "    }\n",
       "\n",
       "    .dataframe tbody tr th {\n",
       "        vertical-align: top;\n",
       "    }\n",
       "\n",
       "    .dataframe thead th {\n",
       "        text-align: right;\n",
       "    }\n",
       "</style>\n",
       "<table border=\"1\" class=\"dataframe\">\n",
       "  <thead>\n",
       "    <tr style=\"text-align: right;\">\n",
       "      <th></th>\n",
       "      <th>Login Timestamp</th>\n",
       "      <th>User ID</th>\n",
       "      <th>IP Address</th>\n",
       "      <th>Country</th>\n",
       "      <th>Device Type</th>\n",
       "      <th>Login Successful</th>\n",
       "      <th>Browser Category</th>\n",
       "      <th>LoginRatio</th>\n",
       "      <th>Total Devices Per User</th>\n",
       "      <th>Total IP Addresses Per User</th>\n",
       "      <th>Total Countries Per User</th>\n",
       "      <th>Total Browser Categories Per User</th>\n",
       "      <th>Time Difference</th>\n",
       "    </tr>\n",
       "  </thead>\n",
       "  <tbody>\n",
       "    <tr>\n",
       "      <th>17243360</th>\n",
       "      <td>2021-02-28 23:58:55.507</td>\n",
       "      <td>-6715186037473961364</td>\n",
       "      <td>84.209.201.201</td>\n",
       "      <td>NO</td>\n",
       "      <td>mobile</td>\n",
       "      <td>True</td>\n",
       "      <td>Chrome Mobile</td>\n",
       "      <td>0.0</td>\n",
       "      <td>1</td>\n",
       "      <td>2</td>\n",
       "      <td>1</td>\n",
       "      <td>2</td>\n",
       "      <td>1598294.217</td>\n",
       "    </tr>\n",
       "    <tr>\n",
       "      <th>17243361</th>\n",
       "      <td>2021-02-28 23:59:39.734</td>\n",
       "      <td>9213110755313420550</td>\n",
       "      <td>80.202.129.223</td>\n",
       "      <td>NO</td>\n",
       "      <td>mobile</td>\n",
       "      <td>True</td>\n",
       "      <td>Mobile Safari</td>\n",
       "      <td>1.0</td>\n",
       "      <td>2</td>\n",
       "      <td>1</td>\n",
       "      <td>1</td>\n",
       "      <td>2</td>\n",
       "      <td>9117392.994</td>\n",
       "    </tr>\n",
       "    <tr>\n",
       "      <th>17243362</th>\n",
       "      <td>2021-02-28 23:59:42.530</td>\n",
       "      <td>-8342802450073386905</td>\n",
       "      <td>109.203.26.146</td>\n",
       "      <td>NO</td>\n",
       "      <td>mobile</td>\n",
       "      <td>True</td>\n",
       "      <td>Chrome Mobile</td>\n",
       "      <td>0.1</td>\n",
       "      <td>2</td>\n",
       "      <td>7</td>\n",
       "      <td>1</td>\n",
       "      <td>2</td>\n",
       "      <td>394043.578</td>\n",
       "    </tr>\n",
       "    <tr>\n",
       "      <th>17243363</th>\n",
       "      <td>2021-02-28 23:59:46.955</td>\n",
       "      <td>-4850944994677833290</td>\n",
       "      <td>92.221.228.146</td>\n",
       "      <td>NO</td>\n",
       "      <td>mobile</td>\n",
       "      <td>True</td>\n",
       "      <td>Mobile Safari</td>\n",
       "      <td>0.0</td>\n",
       "      <td>2</td>\n",
       "      <td>6</td>\n",
       "      <td>1</td>\n",
       "      <td>3</td>\n",
       "      <td>2652.454</td>\n",
       "    </tr>\n",
       "    <tr>\n",
       "      <th>17243364</th>\n",
       "      <td>2021-02-28 23:59:58.756</td>\n",
       "      <td>-3863191272176615105</td>\n",
       "      <td>156.52.189.92</td>\n",
       "      <td>NO</td>\n",
       "      <td>desktop</td>\n",
       "      <td>True</td>\n",
       "      <td>Chrome</td>\n",
       "      <td>0.0</td>\n",
       "      <td>2</td>\n",
       "      <td>8</td>\n",
       "      <td>1</td>\n",
       "      <td>3</td>\n",
       "      <td>6233079.804</td>\n",
       "    </tr>\n",
       "  </tbody>\n",
       "</table>\n",
       "</div>"
      ],
      "text/plain": [
       "                 Login Timestamp              User ID      IP Address Country  \\\n",
       "17243360 2021-02-28 23:58:55.507 -6715186037473961364  84.209.201.201      NO   \n",
       "17243361 2021-02-28 23:59:39.734  9213110755313420550  80.202.129.223      NO   \n",
       "17243362 2021-02-28 23:59:42.530 -8342802450073386905  109.203.26.146      NO   \n",
       "17243363 2021-02-28 23:59:46.955 -4850944994677833290  92.221.228.146      NO   \n",
       "17243364 2021-02-28 23:59:58.756 -3863191272176615105   156.52.189.92      NO   \n",
       "\n",
       "         Device Type  Login Successful Browser Category  LoginRatio  \\\n",
       "17243360      mobile              True   Chrome Mobile          0.0   \n",
       "17243361      mobile              True   Mobile Safari          1.0   \n",
       "17243362      mobile              True   Chrome Mobile          0.1   \n",
       "17243363      mobile              True   Mobile Safari          0.0   \n",
       "17243364     desktop              True          Chrome          0.0   \n",
       "\n",
       "          Total Devices Per User  Total IP Addresses Per User  \\\n",
       "17243360                       1                            2   \n",
       "17243361                       2                            1   \n",
       "17243362                       2                            7   \n",
       "17243363                       2                            6   \n",
       "17243364                       2                            8   \n",
       "\n",
       "          Total Countries Per User  Total Browser Categories Per User  \\\n",
       "17243360                         1                                  2   \n",
       "17243361                         1                                  2   \n",
       "17243362                         1                                  2   \n",
       "17243363                         1                                  3   \n",
       "17243364                         1                                  3   \n",
       "\n",
       "          Time Difference  \n",
       "17243360      1598294.217  \n",
       "17243361      9117392.994  \n",
       "17243362       394043.578  \n",
       "17243363         2652.454  \n",
       "17243364      6233079.804  "
      ]
     },
     "execution_count": 39,
     "metadata": {},
     "output_type": "execute_result"
    }
   ],
   "source": [
    "from datetime import timedelta\n",
    "\n",
    "# Convert the 'Time Difference' column to seconds\n",
    "df['Time Difference'] = pd.to_timedelta(df['Time Difference']).dt.total_seconds()\n",
    "df.tail()"
   ]
  },
  {
   "cell_type": "code",
   "execution_count": 40,
   "id": "053e821b",
   "metadata": {},
   "outputs": [
    {
     "data": {
      "text/plain": [
       "(17243365, 13)"
      ]
     },
     "execution_count": 40,
     "metadata": {},
     "output_type": "execute_result"
    }
   ],
   "source": [
    "df.shape"
   ]
  },
  {
   "cell_type": "markdown",
   "id": "a0df3e50",
   "metadata": {},
   "source": [
    "### The code snippet assigns the \"target\" column with values based on certain conditions. These conditions can be tailored to capture anomalies in the data based on specific features or characteristics that are considered abnormal or indicative of anomalous behavior."
   ]
  },
  {
   "cell_type": "code",
   "execution_count": null,
   "id": "4c78b686",
   "metadata": {},
   "outputs": [],
   "source": []
  },
  {
   "cell_type": "code",
   "execution_count": 41,
   "id": "c65bf026",
   "metadata": {},
   "outputs": [],
   "source": [
    "# Initialize the \"target\" column with zeros\n",
    "df['target'] = 0\n",
    "\n",
    "# Check conditions for Total Countries\n",
    "df.loc[df['Total Countries Per User'] > 2, 'target'] += 1\n",
    "\n",
    "# Check conditions for Total Device Types\n",
    "df.loc[df['Total Devices Per User'] > 3, 'target'] += 1\n",
    "\n",
    "# Check conditions for Total IP Addresses\n",
    "df.loc[df['Total IP Addresses Per User'] > 4, 'target'] += 1\n",
    "\n",
    "# Check conditions for Total Browser Categories\n",
    "df.loc[df['Total Browser Categories Per User'] > 3, 'target'] += 1\n",
    "\n",
    "# Check conditions for Time Difference (Seconds)\n",
    "df.loc[(df['Time Difference'] > 0) & (df['Time Difference'] < 5), 'target'] += 1\n",
    "\n",
    "# Check conditions for Final Browser Category\n",
    "df.loc[df['Browser Category'] == 'Bot', 'target'] += 2\n",
    "\n",
    "# Check conditions for Device Type\n",
    "df.loc[df['Device Type'] == 'bot', 'target'] += 2\n",
    "\n",
    "# Check conditions for LoginRatio\n",
    "df.loc[df['LoginRatio'] > 10, 'target'] += 1"
   ]
  },
  {
   "cell_type": "code",
   "execution_count": 42,
   "id": "299d3e60",
   "metadata": {},
   "outputs": [
    {
     "data": {
      "text/html": [
       "<div>\n",
       "<style scoped>\n",
       "    .dataframe tbody tr th:only-of-type {\n",
       "        vertical-align: middle;\n",
       "    }\n",
       "\n",
       "    .dataframe tbody tr th {\n",
       "        vertical-align: top;\n",
       "    }\n",
       "\n",
       "    .dataframe thead th {\n",
       "        text-align: right;\n",
       "    }\n",
       "</style>\n",
       "<table border=\"1\" class=\"dataframe\">\n",
       "  <thead>\n",
       "    <tr style=\"text-align: right;\">\n",
       "      <th></th>\n",
       "      <th>Login Timestamp</th>\n",
       "      <th>User ID</th>\n",
       "      <th>IP Address</th>\n",
       "      <th>Country</th>\n",
       "      <th>Device Type</th>\n",
       "      <th>Login Successful</th>\n",
       "      <th>Browser Category</th>\n",
       "      <th>LoginRatio</th>\n",
       "      <th>Total Devices Per User</th>\n",
       "      <th>Total IP Addresses Per User</th>\n",
       "      <th>Total Countries Per User</th>\n",
       "      <th>Total Browser Categories Per User</th>\n",
       "      <th>Time Difference</th>\n",
       "      <th>target</th>\n",
       "    </tr>\n",
       "  </thead>\n",
       "  <tbody>\n",
       "    <tr>\n",
       "      <th>0</th>\n",
       "      <td>2020-02-03 12:43:55.873</td>\n",
       "      <td>-3284137479262433373</td>\n",
       "      <td>81.167.144.58</td>\n",
       "      <td>NO</td>\n",
       "      <td>mobile</td>\n",
       "      <td>True</td>\n",
       "      <td>Android</td>\n",
       "      <td>0.052632</td>\n",
       "      <td>2</td>\n",
       "      <td>6</td>\n",
       "      <td>1</td>\n",
       "      <td>4</td>\n",
       "      <td>0.0</td>\n",
       "      <td>2</td>\n",
       "    </tr>\n",
       "    <tr>\n",
       "      <th>1</th>\n",
       "      <td>2020-02-03 12:43:59.396</td>\n",
       "      <td>-4618854071942621186</td>\n",
       "      <td>10.0.0.47</td>\n",
       "      <td>US</td>\n",
       "      <td>mobile</td>\n",
       "      <td>False</td>\n",
       "      <td>Chrome Mobile WebView</td>\n",
       "      <td>2.000000</td>\n",
       "      <td>1</td>\n",
       "      <td>1</td>\n",
       "      <td>1</td>\n",
       "      <td>1</td>\n",
       "      <td>0.0</td>\n",
       "      <td>0</td>\n",
       "    </tr>\n",
       "    <tr>\n",
       "      <th>2</th>\n",
       "      <td>2020-02-03 12:44:07.893</td>\n",
       "      <td>7246533443898239661</td>\n",
       "      <td>80.202.228.214</td>\n",
       "      <td>NO</td>\n",
       "      <td>desktop</td>\n",
       "      <td>True</td>\n",
       "      <td>Chrome</td>\n",
       "      <td>1.000000</td>\n",
       "      <td>2</td>\n",
       "      <td>3</td>\n",
       "      <td>1</td>\n",
       "      <td>2</td>\n",
       "      <td>0.0</td>\n",
       "      <td>0</td>\n",
       "    </tr>\n",
       "    <tr>\n",
       "      <th>3</th>\n",
       "      <td>2020-02-03 12:44:12.799</td>\n",
       "      <td>-3243978724802435038</td>\n",
       "      <td>170.39.78.177</td>\n",
       "      <td>US</td>\n",
       "      <td>mobile</td>\n",
       "      <td>False</td>\n",
       "      <td>Chrome Mobile</td>\n",
       "      <td>1.500000</td>\n",
       "      <td>1</td>\n",
       "      <td>2</td>\n",
       "      <td>1</td>\n",
       "      <td>1</td>\n",
       "      <td>0.0</td>\n",
       "      <td>0</td>\n",
       "    </tr>\n",
       "    <tr>\n",
       "      <th>4</th>\n",
       "      <td>2020-02-03 12:44:17.474</td>\n",
       "      <td>8076000552587369902</td>\n",
       "      <td>10.0.61.212</td>\n",
       "      <td>NO</td>\n",
       "      <td>mobile</td>\n",
       "      <td>False</td>\n",
       "      <td>MiuiBrowser</td>\n",
       "      <td>0.007533</td>\n",
       "      <td>2</td>\n",
       "      <td>221</td>\n",
       "      <td>1</td>\n",
       "      <td>4</td>\n",
       "      <td>0.0</td>\n",
       "      <td>2</td>\n",
       "    </tr>\n",
       "  </tbody>\n",
       "</table>\n",
       "</div>"
      ],
      "text/plain": [
       "          Login Timestamp              User ID      IP Address Country  \\\n",
       "0 2020-02-03 12:43:55.873 -3284137479262433373   81.167.144.58      NO   \n",
       "1 2020-02-03 12:43:59.396 -4618854071942621186       10.0.0.47      US   \n",
       "2 2020-02-03 12:44:07.893  7246533443898239661  80.202.228.214      NO   \n",
       "3 2020-02-03 12:44:12.799 -3243978724802435038   170.39.78.177      US   \n",
       "4 2020-02-03 12:44:17.474  8076000552587369902     10.0.61.212      NO   \n",
       "\n",
       "  Device Type  Login Successful        Browser Category  LoginRatio  \\\n",
       "0      mobile              True                Android     0.052632   \n",
       "1      mobile             False  Chrome Mobile WebView     2.000000   \n",
       "2     desktop              True                 Chrome     1.000000   \n",
       "3      mobile             False          Chrome Mobile     1.500000   \n",
       "4      mobile             False            MiuiBrowser     0.007533   \n",
       "\n",
       "   Total Devices Per User  Total IP Addresses Per User  \\\n",
       "0                       2                            6   \n",
       "1                       1                            1   \n",
       "2                       2                            3   \n",
       "3                       1                            2   \n",
       "4                       2                          221   \n",
       "\n",
       "   Total Countries Per User  Total Browser Categories Per User  \\\n",
       "0                         1                                  4   \n",
       "1                         1                                  1   \n",
       "2                         1                                  2   \n",
       "3                         1                                  1   \n",
       "4                         1                                  4   \n",
       "\n",
       "   Time Difference  target  \n",
       "0              0.0       2  \n",
       "1              0.0       0  \n",
       "2              0.0       0  \n",
       "3              0.0       0  \n",
       "4              0.0       2  "
      ]
     },
     "execution_count": 42,
     "metadata": {},
     "output_type": "execute_result"
    }
   ],
   "source": [
    "df.head()"
   ]
  },
  {
   "cell_type": "markdown",
   "id": "080dcd35",
   "metadata": {},
   "source": [
    "### The provided code generates a bar plot using matplotlib to summarize the number of users per target. It groups a DataFrame by the 'target' column, counts the occurrences of 'User ID' within each group, and creates a bar plot with the number of users on the y-axis and the target categories on the x-axis. The resulting visualization provides an overview of the distribution of users across different target categories."
   ]
  },
  {
   "cell_type": "code",
   "execution_count": 43,
   "id": "889c8575",
   "metadata": {},
   "outputs": [
    {
     "data": {
      "image/png": "[encoded data removed]",
      "text/plain": [
       "<Figure size 640x480 with 1 Axes>"
      ]
     },
     "metadata": {},
     "output_type": "display_data"
    }
   ],
   "source": [
    "user_counts = df.groupby('target')['User ID'].count()\n",
    "\n",
    "fig, ax = plt.subplots()\n",
    "user_counts.plot(kind='bar', ax=ax)\n",
    "ax.bar_label(ax.containers[0])\n",
    "\n",
    "plt.xlabel('Target')\n",
    "plt.ylabel('Number of Users')\n",
    "plt.title('Number of Users per Target')\n",
    "plt.show()"
   ]
  },
  {
   "cell_type": "markdown",
   "id": "e557687c",
   "metadata": {},
   "source": [
    "### The code calculates and displays the top IP addresses based on the number of unique users associated with each IP address in a DataFrame."
   ]
  },
  {
   "cell_type": "code",
   "execution_count": 44,
   "id": "2a4c22f0",
   "metadata": {},
   "outputs": [
    {
     "data": {
      "text/plain": [
       "Total IP Addresses Per User\n",
       "1     2395287\n",
       "2      856455\n",
       "3      412374\n",
       "4      227283\n",
       "5      136490\n",
       "6       85726\n",
       "7       56071\n",
       "8       37407\n",
       "9       25751\n",
       "10      17617\n",
       "11      12632\n",
       "12       9192\n",
       "13       6845\n",
       "14       5224\n",
       "15       3938\n",
       "16       3042\n",
       "17       2343\n",
       "18       1764\n",
       "19       1373\n",
       "20       1095\n",
       "Name: User ID, dtype: int64"
      ]
     },
     "execution_count": 44,
     "metadata": {},
     "output_type": "execute_result"
    }
   ],
   "source": [
    "ip_user_counts = df.groupby('Total IP Addresses Per User')['User ID'].nunique()\n",
    "\n",
    "# Sort the IP addresses by the number of unique users in descending order\n",
    "top_ip_addresses = ip_user_counts.sort_values(ascending=False)\n",
    "\n",
    "# Print the top IP addresses along with the number of unique users\n",
    "top_ip_addresses.head(20) "
   ]
  },
  {
   "cell_type": "markdown",
   "id": "c3ff2848",
   "metadata": {},
   "source": [
    "### This code provides details such as the number of non-null values in each column, the data type of each column, and the total memory consumed by the DataFrame. This information helps to understand the structure and content of the DataFrame, including any missing values and potential data type issues."
   ]
  },
  {
   "cell_type": "code",
   "execution_count": 45,
   "id": "26e022e9",
   "metadata": {},
   "outputs": [
    {
     "name": "stdout",
     "output_type": "stream",
     "text": [
      "<class 'pandas.core.frame.DataFrame'>\n",
      "Int64Index: 17243365 entries, 0 to 17243364\n",
      "Data columns (total 14 columns):\n",
      " #   Column                             Dtype         \n",
      "---  ------                             -----         \n",
      " 0   Login Timestamp                    datetime64[ns]\n",
      " 1   User ID                            int64         \n",
      " 2   IP Address                         object        \n",
      " 3   Country                            object        \n",
      " 4   Device Type                        object        \n",
      " 5   Login Successful                   bool          \n",
      " 6   Browser Category                   object        \n",
      " 7   LoginRatio                         float64       \n",
      " 8   Total Devices Per User             int64         \n",
      " 9   Total IP Addresses Per User        int64         \n",
      " 10  Total Countries Per User           int64         \n",
      " 11  Total Browser Categories Per User  int64         \n",
      " 12  Time Difference                    float64       \n",
      " 13  target                             int64         \n",
      "dtypes: bool(1), datetime64[ns](1), float64(2), int64(6), object(4)\n",
      "memory usage: 1.8+ GB\n"
     ]
    }
   ],
   "source": [
    "df.info()"
   ]
  },
  {
   "cell_type": "markdown",
   "id": "ad7f065d",
   "metadata": {},
   "source": [
    "### The following columns are being dropped since they contain unique values and are no longer needed for further analysis or processing"
   ]
  },
  {
   "cell_type": "code",
   "execution_count": 46,
   "id": "b8e1f3cc",
   "metadata": {},
   "outputs": [],
   "source": [
    "df = df.drop(['Login Timestamp', 'IP Address', \"User ID\"], axis= 1)"
   ]
  },
  {
   "cell_type": "markdown",
   "id": "b89fa261",
   "metadata": {},
   "source": [
    "### This code segment performs label encoding on categorical columns and converts boolean columns to integers, making the data suitable for certain machine learning algorithms that require numeric inputs."
   ]
  },
  {
   "cell_type": "code",
   "execution_count": 47,
   "id": "67ab609b",
   "metadata": {},
   "outputs": [],
   "source": [
    "from sklearn.preprocessing import LabelEncoder\n",
    "\n",
    "# Selecting the categorical columns to be label encoded\n",
    "categorical_cols = ['Country', 'Device Type', 'Browser Category']\n",
    "\n",
    "# Initializing the LabelEncoder\n",
    "label_encoder = LabelEncoder()\n",
    "\n",
    "# Applying label encoding to each categorical column\n",
    "for col in categorical_cols:\n",
    "    df[col] = label_encoder.fit_transform(df[col])\n",
    "\n",
    "# Converting boolean columns to integers (0 or 1)\n",
    "bool_cols = ['Login Successful']\n",
    "df[bool_cols] = df[bool_cols].astype(int)"
   ]
  },
  {
   "cell_type": "code",
   "execution_count": 48,
   "id": "62379eb0",
   "metadata": {},
   "outputs": [
    {
     "name": "stdout",
     "output_type": "stream",
     "text": [
      "<class 'pandas.core.frame.DataFrame'>\n",
      "Int64Index: 17243365 entries, 0 to 17243364\n",
      "Data columns (total 11 columns):\n",
      " #   Column                             Dtype  \n",
      "---  ------                             -----  \n",
      " 0   Country                            int64  \n",
      " 1   Device Type                        int64  \n",
      " 2   Login Successful                   int64  \n",
      " 3   Browser Category                   int64  \n",
      " 4   LoginRatio                         float64\n",
      " 5   Total Devices Per User             int64  \n",
      " 6   Total IP Addresses Per User        int64  \n",
      " 7   Total Countries Per User           int64  \n",
      " 8   Total Browser Categories Per User  int64  \n",
      " 9   Time Difference                    float64\n",
      " 10  target                             int64  \n",
      "dtypes: float64(2), int64(9)\n",
      "memory usage: 1.5 GB\n"
     ]
    }
   ],
   "source": [
    "df.info()"
   ]
  },
  {
   "cell_type": "code",
   "execution_count": 52,
   "id": "910bcaf3",
   "metadata": {},
   "outputs": [
    {
     "data": {
      "text/html": [
       "<div>\n",
       "<style scoped>\n",
       "    .dataframe tbody tr th:only-of-type {\n",
       "        vertical-align: middle;\n",
       "    }\n",
       "\n",
       "    .dataframe tbody tr th {\n",
       "        vertical-align: top;\n",
       "    }\n",
       "\n",
       "    .dataframe thead th {\n",
       "        text-align: right;\n",
       "    }\n",
       "</style>\n",
       "<table border=\"1\" class=\"dataframe\">\n",
       "  <thead>\n",
       "    <tr style=\"text-align: right;\">\n",
       "      <th></th>\n",
       "      <th>Country</th>\n",
       "      <th>Device Type</th>\n",
       "      <th>Login Successful</th>\n",
       "      <th>Browser Category</th>\n",
       "      <th>LoginRatio</th>\n",
       "      <th>Total Devices Per User</th>\n",
       "      <th>Total IP Addresses Per User</th>\n",
       "      <th>Total Countries Per User</th>\n",
       "      <th>Total Browser Categories Per User</th>\n",
       "      <th>Time Difference</th>\n",
       "      <th>target</th>\n",
       "    </tr>\n",
       "  </thead>\n",
       "  <tbody>\n",
       "    <tr>\n",
       "      <th>14701524</th>\n",
       "      <td>146</td>\n",
       "      <td>2</td>\n",
       "      <td>1</td>\n",
       "      <td>0</td>\n",
       "      <td>0.100000</td>\n",
       "      <td>3</td>\n",
       "      <td>8</td>\n",
       "      <td>1</td>\n",
       "      <td>4</td>\n",
       "      <td>4605528.965</td>\n",
       "      <td>2</td>\n",
       "    </tr>\n",
       "    <tr>\n",
       "      <th>7101989</th>\n",
       "      <td>157</td>\n",
       "      <td>1</td>\n",
       "      <td>1</td>\n",
       "      <td>2</td>\n",
       "      <td>0.333333</td>\n",
       "      <td>2</td>\n",
       "      <td>2</td>\n",
       "      <td>1</td>\n",
       "      <td>1</td>\n",
       "      <td>1022.743</td>\n",
       "      <td>0</td>\n",
       "    </tr>\n",
       "    <tr>\n",
       "      <th>7356394</th>\n",
       "      <td>146</td>\n",
       "      <td>2</td>\n",
       "      <td>1</td>\n",
       "      <td>0</td>\n",
       "      <td>0.000000</td>\n",
       "      <td>2</td>\n",
       "      <td>6</td>\n",
       "      <td>2</td>\n",
       "      <td>2</td>\n",
       "      <td>2984003.251</td>\n",
       "      <td>1</td>\n",
       "    </tr>\n",
       "    <tr>\n",
       "      <th>2798672</th>\n",
       "      <td>146</td>\n",
       "      <td>2</td>\n",
       "      <td>1</td>\n",
       "      <td>3</td>\n",
       "      <td>0.000000</td>\n",
       "      <td>1</td>\n",
       "      <td>4</td>\n",
       "      <td>1</td>\n",
       "      <td>1</td>\n",
       "      <td>0.000</td>\n",
       "      <td>0</td>\n",
       "    </tr>\n",
       "    <tr>\n",
       "      <th>3764547</th>\n",
       "      <td>146</td>\n",
       "      <td>2</td>\n",
       "      <td>1</td>\n",
       "      <td>17</td>\n",
       "      <td>0.000000</td>\n",
       "      <td>1</td>\n",
       "      <td>1</td>\n",
       "      <td>1</td>\n",
       "      <td>1</td>\n",
       "      <td>0.000</td>\n",
       "      <td>0</td>\n",
       "    </tr>\n",
       "  </tbody>\n",
       "</table>\n",
       "</div>"
      ],
      "text/plain": [
       "          Country  Device Type  Login Successful  Browser Category  \\\n",
       "14701524      146            2                 1                 0   \n",
       "7101989       157            1                 1                 2   \n",
       "7356394       146            2                 1                 0   \n",
       "2798672       146            2                 1                 3   \n",
       "3764547       146            2                 1                17   \n",
       "\n",
       "          LoginRatio  Total Devices Per User  Total IP Addresses Per User  \\\n",
       "14701524    0.100000                       3                            8   \n",
       "7101989     0.333333                       2                            2   \n",
       "7356394     0.000000                       2                            6   \n",
       "2798672     0.000000                       1                            4   \n",
       "3764547     0.000000                       1                            1   \n",
       "\n",
       "          Total Countries Per User  Total Browser Categories Per User  \\\n",
       "14701524                         1                                  4   \n",
       "7101989                          1                                  1   \n",
       "7356394                          2                                  2   \n",
       "2798672                          1                                  1   \n",
       "3764547                          1                                  1   \n",
       "\n",
       "          Time Difference  target  \n",
       "14701524      4605528.965       2  \n",
       "7101989          1022.743       0  \n",
       "7356394       2984003.251       1  \n",
       "2798672             0.000       0  \n",
       "3764547             0.000       0  "
      ]
     },
     "execution_count": 52,
     "metadata": {},
     "output_type": "execute_result"
    }
   ],
   "source": [
    "df.sample(5)"
   ]
  },
  {
   "cell_type": "markdown",
   "id": "9406090a",
   "metadata": {},
   "source": [
    "### This code snippet uses the train_test_split function from scikit-learn to split a dataset into training and testing sets. \n",
    "\n",
    "It assumes that the dataset is stored in the variable 'data'. The features are extracted from the DataFrame by dropping the 'target' column, which is assigned to the variable 'X'. The target variable is assigned to the variable 'y'. \n",
    "\n",
    "The dataset is then split into training and testing subsets using a 80:20 ratio, where 80% of the data is used for training and 20% for testing. \n",
    "\n",
    "The resulting splits are stored in 'X_train', 'X_test', 'y_train', and 'y_test', allowing for model training on the training data and evaluation on the testing data."
   ]
  },
  {
   "cell_type": "code",
   "execution_count": 53,
   "id": "f10af549",
   "metadata": {},
   "outputs": [],
   "source": [
    "from sklearn.model_selection import train_test_split\n",
    "\n",
    "X = df.drop('target', axis=1)  # Features\n",
    "y = df['target']  # Target variable\n",
    "\n",
    "# Spliting the dataset into training and testing sets\n",
    "X_train, X_test, y_train, y_test = train_test_split(X, y, test_size=0.2, random_state=42)"
   ]
  },
  {
   "cell_type": "code",
   "execution_count": 54,
   "id": "b58e5c4f",
   "metadata": {},
   "outputs": [
    {
     "data": {
      "text/html": [
       "<div>\n",
       "<style scoped>\n",
       "    .dataframe tbody tr th:only-of-type {\n",
       "        vertical-align: middle;\n",
       "    }\n",
       "\n",
       "    .dataframe tbody tr th {\n",
       "        vertical-align: top;\n",
       "    }\n",
       "\n",
       "    .dataframe thead th {\n",
       "        text-align: right;\n",
       "    }\n",
       "</style>\n",
       "<table border=\"1\" class=\"dataframe\">\n",
       "  <thead>\n",
       "    <tr style=\"text-align: right;\">\n",
       "      <th></th>\n",
       "      <th>Country</th>\n",
       "      <th>Device Type</th>\n",
       "      <th>Login Successful</th>\n",
       "      <th>Browser Category</th>\n",
       "      <th>LoginRatio</th>\n",
       "      <th>Total Devices Per User</th>\n",
       "      <th>Total IP Addresses Per User</th>\n",
       "      <th>Total Countries Per User</th>\n",
       "      <th>Total Browser Categories Per User</th>\n",
       "      <th>Time Difference</th>\n",
       "    </tr>\n",
       "  </thead>\n",
       "  <tbody>\n",
       "    <tr>\n",
       "      <th>8357573</th>\n",
       "      <td>202</td>\n",
       "      <td>2</td>\n",
       "      <td>1</td>\n",
       "      <td>21</td>\n",
       "      <td>0.666667</td>\n",
       "      <td>1</td>\n",
       "      <td>7</td>\n",
       "      <td>1</td>\n",
       "      <td>2</td>\n",
       "      <td>1981875.957</td>\n",
       "    </tr>\n",
       "    <tr>\n",
       "      <th>5098171</th>\n",
       "      <td>146</td>\n",
       "      <td>1</td>\n",
       "      <td>1</td>\n",
       "      <td>2</td>\n",
       "      <td>0.500000</td>\n",
       "      <td>2</td>\n",
       "      <td>9</td>\n",
       "      <td>1</td>\n",
       "      <td>2</td>\n",
       "      <td>85926.926</td>\n",
       "    </tr>\n",
       "    <tr>\n",
       "      <th>16989868</th>\n",
       "      <td>202</td>\n",
       "      <td>2</td>\n",
       "      <td>1</td>\n",
       "      <td>3</td>\n",
       "      <td>0.111111</td>\n",
       "      <td>1</td>\n",
       "      <td>3</td>\n",
       "      <td>1</td>\n",
       "      <td>1</td>\n",
       "      <td>76.601</td>\n",
       "    </tr>\n",
       "    <tr>\n",
       "      <th>13196207</th>\n",
       "      <td>202</td>\n",
       "      <td>2</td>\n",
       "      <td>0</td>\n",
       "      <td>3</td>\n",
       "      <td>2.000000</td>\n",
       "      <td>1</td>\n",
       "      <td>2</td>\n",
       "      <td>1</td>\n",
       "      <td>1</td>\n",
       "      <td>0.000</td>\n",
       "    </tr>\n",
       "    <tr>\n",
       "      <th>15952406</th>\n",
       "      <td>146</td>\n",
       "      <td>1</td>\n",
       "      <td>1</td>\n",
       "      <td>2</td>\n",
       "      <td>0.023256</td>\n",
       "      <td>2</td>\n",
       "      <td>3</td>\n",
       "      <td>1</td>\n",
       "      <td>2</td>\n",
       "      <td>2225565.818</td>\n",
       "    </tr>\n",
       "  </tbody>\n",
       "</table>\n",
       "</div>"
      ],
      "text/plain": [
       "          Country  Device Type  Login Successful  Browser Category  \\\n",
       "8357573       202            2                 1                21   \n",
       "5098171       146            1                 1                 2   \n",
       "16989868      202            2                 1                 3   \n",
       "13196207      202            2                 0                 3   \n",
       "15952406      146            1                 1                 2   \n",
       "\n",
       "          LoginRatio  Total Devices Per User  Total IP Addresses Per User  \\\n",
       "8357573     0.666667                       1                            7   \n",
       "5098171     0.500000                       2                            9   \n",
       "16989868    0.111111                       1                            3   \n",
       "13196207    2.000000                       1                            2   \n",
       "15952406    0.023256                       2                            3   \n",
       "\n",
       "          Total Countries Per User  Total Browser Categories Per User  \\\n",
       "8357573                          1                                  2   \n",
       "5098171                          1                                  2   \n",
       "16989868                         1                                  1   \n",
       "13196207                         1                                  1   \n",
       "15952406                         1                                  2   \n",
       "\n",
       "          Time Difference  \n",
       "8357573       1981875.957  \n",
       "5098171         85926.926  \n",
       "16989868           76.601  \n",
       "13196207            0.000  \n",
       "15952406      2225565.818  "
      ]
     },
     "execution_count": 54,
     "metadata": {},
     "output_type": "execute_result"
    }
   ],
   "source": [
    "x_train_head = X_train.head()\n",
    "x_train_head"
   ]
  },
  {
   "cell_type": "markdown",
   "id": "bef3a5da",
   "metadata": {},
   "source": [
    "### The following code creates and trains an XGBoost regression model using the XGBRegressor class from the xgboost library. It fits the model to the training data, allowing it to learn the patterns and relationships necessary for making predictions on unseen data."
   ]
  },
  {
   "cell_type": "code",
   "execution_count": 55,
   "id": "f34456ab",
   "metadata": {},
   "outputs": [
    {
     "data": {
      "text/html": [
       "<style>#sk-container-id-1 {color: black;background-color: white;}#sk-container-id-1 pre{padding: 0;}#sk-container-id-1 div.sk-toggleable {background-color: white;}#sk-container-id-1 label.sk-toggleable__label {cursor: pointer;display: block;width: 100%;margin-bottom: 0;padding: 0.3em;box-sizing: border-box;text-align: center;}#sk-container-id-1 label.sk-toggleable__label-arrow:before {content: \"▸\";float: left;margin-right: 0.25em;color: #696969;}#sk-container-id-1 label.sk-toggleable__label-arrow:hover:before {color: black;}#sk-container-id-1 div.sk-estimator:hover label.sk-toggleable__label-arrow:before {color: black;}#sk-container-id-1 div.sk-toggleable__content {max-height: 0;max-width: 0;overflow: hidden;text-align: left;background-color: #f0f8ff;}#sk-container-id-1 div.sk-toggleable__content pre {margin: 0.2em;color: black;border-radius: 0.25em;background-color: #f0f8ff;}#sk-container-id-1 input.sk-toggleable__control:checked~div.sk-toggleable__content {max-height: 200px;max-width: 100%;overflow: auto;}#sk-container-id-1 input.sk-toggleable__control:checked~label.sk-toggleable__label-arrow:before {content: \"▾\";}#sk-container-id-1 div.sk-estimator input.sk-toggleable__control:checked~label.sk-toggleable__label {background-color: #d4ebff;}#sk-container-id-1 div.sk-label input.sk-toggleable__control:checked~label.sk-toggleable__label {background-color: #d4ebff;}#sk-container-id-1 input.sk-hidden--visually {border: 0;clip: rect(1px 1px 1px 1px);clip: rect(1px, 1px, 1px, 1px);height: 1px;margin: -1px;overflow: hidden;padding: 0;position: absolute;width: 1px;}#sk-container-id-1 div.sk-estimator {font-family: monospace;background-color: #f0f8ff;border: 1px dotted black;border-radius: 0.25em;box-sizing: border-box;margin-bottom: 0.5em;}#sk-container-id-1 div.sk-estimator:hover {background-color: #d4ebff;}#sk-container-id-1 div.sk-parallel-item::after {content: \"\";width: 100%;border-bottom: 1px solid gray;flex-grow: 1;}#sk-container-id-1 div.sk-label:hover label.sk-toggleable__label {background-color: #d4ebff;}#sk-container-id-1 div.sk-serial::before {content: \"\";position: absolute;border-left: 1px solid gray;box-sizing: border-box;top: 0;bottom: 0;left: 50%;z-index: 0;}#sk-container-id-1 div.sk-serial {display: flex;flex-direction: column;align-items: center;background-color: white;padding-right: 0.2em;padding-left: 0.2em;position: relative;}#sk-container-id-1 div.sk-item {position: relative;z-index: 1;}#sk-container-id-1 div.sk-parallel {display: flex;align-items: stretch;justify-content: center;background-color: white;position: relative;}#sk-container-id-1 div.sk-item::before, #sk-container-id-1 div.sk-parallel-item::before {content: \"\";position: absolute;border-left: 1px solid gray;box-sizing: border-box;top: 0;bottom: 0;left: 50%;z-index: -1;}#sk-container-id-1 div.sk-parallel-item {display: flex;flex-direction: column;z-index: 1;position: relative;background-color: white;}#sk-container-id-1 div.sk-parallel-item:first-child::after {align-self: flex-end;width: 50%;}#sk-container-id-1 div.sk-parallel-item:last-child::after {align-self: flex-start;width: 50%;}#sk-container-id-1 div.sk-parallel-item:only-child::after {width: 0;}#sk-container-id-1 div.sk-dashed-wrapped {border: 1px dashed gray;margin: 0 0.4em 0.5em 0.4em;box-sizing: border-box;padding-bottom: 0.4em;background-color: white;}#sk-container-id-1 div.sk-label label {font-family: monospace;font-weight: bold;display: inline-block;line-height: 1.2em;}#sk-container-id-1 div.sk-label-container {text-align: center;}#sk-container-id-1 div.sk-container {/* jupyter's `normalize.less` sets `[hidden] { display: none; }` but bootstrap.min.css set `[hidden] { display: none !important; }` so we also need the `!important` here to be able to override the default hidden behavior on the sphinx rendered scikit-learn.org. See: https://github.com/scikit-learn/scikit-learn/issues/21755 */display: inline-block !important;position: relative;}#sk-container-id-1 div.sk-text-repr-fallback {display: none;}</style><div id=\"sk-container-id-1\" class=\"sk-top-container\"><div class=\"sk-text-repr-fallback\"><pre>XGBRegressor(base_score=None, booster=None, callbacks=None,\n",
       "             colsample_bylevel=None, colsample_bynode=None,\n",
       "             colsample_bytree=None, early_stopping_rounds=None,\n",
       "             enable_categorical=False, eval_metric=None, feature_types=None,\n",
       "             gamma=None, gpu_id=None, grow_policy=None, importance_type=None,\n",
       "             interaction_constraints=None, learning_rate=None, max_bin=None,\n",
       "             max_cat_threshold=None, max_cat_to_onehot=None,\n",
       "             max_delta_step=None, max_depth=None, max_leaves=None,\n",
       "             min_child_weight=None, missing=nan, monotone_constraints=None,\n",
       "             n_estimators=100, n_jobs=None, num_parallel_tree=None,\n",
       "             predictor=None, random_state=None, ...)</pre><b>In a Jupyter environment, please rerun this cell to show the HTML representation or trust the notebook. <br />On GitHub, the HTML representation is unable to render, please try loading this page with nbviewer.org.</b></div><div class=\"sk-container\" hidden><div class=\"sk-item\"><div class=\"sk-estimator sk-toggleable\"><input class=\"sk-toggleable__control sk-hidden--visually\" id=\"sk-estimator-id-1\" type=\"checkbox\" checked><label for=\"sk-estimator-id-1\" class=\"sk-toggleable__label sk-toggleable__label-arrow\">XGBRegressor</label><div class=\"sk-toggleable__content\"><pre>XGBRegressor(base_score=None, booster=None, callbacks=None,\n",
       "             colsample_bylevel=None, colsample_bynode=None,\n",
       "             colsample_bytree=None, early_stopping_rounds=None,\n",
       "             enable_categorical=False, eval_metric=None, feature_types=None,\n",
       "             gamma=None, gpu_id=None, grow_policy=None, importance_type=None,\n",
       "             interaction_constraints=None, learning_rate=None, max_bin=None,\n",
       "             max_cat_threshold=None, max_cat_to_onehot=None,\n",
       "             max_delta_step=None, max_depth=None, max_leaves=None,\n",
       "             min_child_weight=None, missing=nan, monotone_constraints=None,\n",
       "             n_estimators=100, n_jobs=None, num_parallel_tree=None,\n",
       "             predictor=None, random_state=None, ...)</pre></div></div></div></div></div>"
      ],
      "text/plain": [
       "XGBRegressor(base_score=None, booster=None, callbacks=None,\n",
       "             colsample_bylevel=None, colsample_bynode=None,\n",
       "             colsample_bytree=None, early_stopping_rounds=None,\n",
       "             enable_categorical=False, eval_metric=None, feature_types=None,\n",
       "             gamma=None, gpu_id=None, grow_policy=None, importance_type=None,\n",
       "             interaction_constraints=None, learning_rate=None, max_bin=None,\n",
       "             max_cat_threshold=None, max_cat_to_onehot=None,\n",
       "             max_delta_step=None, max_depth=None, max_leaves=None,\n",
       "             min_child_weight=None, missing=nan, monotone_constraints=None,\n",
       "             n_estimators=100, n_jobs=None, num_parallel_tree=None,\n",
       "             predictor=None, random_state=None, ...)"
      ]
     },
     "execution_count": 55,
     "metadata": {},
     "output_type": "execute_result"
    }
   ],
   "source": [
    "from xgboost import XGBRegressor\n",
    "regressor = XGBRegressor()\n",
    "regressor.fit(X_train, y_train)"
   ]
  },
  {
   "cell_type": "markdown",
   "id": "3ea42b9b",
   "metadata": {},
   "source": [
    "### The code snippet calculates evaluation metrics to assess the performance of a regression model trained using XGBoost. \n",
    "\n",
    "It uses the mean squared error (MSE), root mean squared error (RMSE), and mean absolute error (MAE) to measure the model's prediction accuracy. \n",
    "\n",
    "The code predicts the target variable for the test set using the trained XGBoost regressor, calculates the MSE, RMSE, and MAE by comparing the predicted values with the actual values, and then prints the results. \n",
    "\n",
    "These metrics provide insights into how well the regression model is performing in terms of the accuracy of its predictions."
   ]
  },
  {
   "cell_type": "code",
   "execution_count": 56,
   "id": "7c02a5d4",
   "metadata": {},
   "outputs": [
    {
     "name": "stdout",
     "output_type": "stream",
     "text": [
      "Mean Squared Error (MSE): 0.0030612325056118346\n",
      "Root Mean Squared Error (RMSE): 0.055328405955818345\n",
      "Mean Absolute Error (MAE): 0.0066912955442211715\n"
     ]
    }
   ],
   "source": [
    "from sklearn.metrics import mean_squared_error, mean_absolute_error\n",
    "\n",
    "# Making predictions using the trained regressor\n",
    "y_pred = regressor.predict(X_test)\n",
    "\n",
    "# Calculating mean squared error (MSE)\n",
    "mse = mean_squared_error(y_test, y_pred)\n",
    "print(\"Mean Squared Error (MSE):\", mse)\n",
    "\n",
    "# Calculating root mean squared error (RMSE)\n",
    "rmse = np.sqrt(mse)\n",
    "print(\"Root Mean Squared Error (RMSE):\", rmse)\n",
    "\n",
    "# Calculating mean absolute error (MAE)\n",
    "mae = mean_absolute_error(y_test, y_pred)\n",
    "print(\"Mean Absolute Error (MAE):\", mae)\n"
   ]
  },
  {
   "cell_type": "markdown",
   "id": "4249aba7",
   "metadata": {},
   "source": [
    "#### This code saves the trained XGBoost regressor model by serializing it with pickle and writing it to a file, enabling it to be easily loaded and utilized at a later time."
   ]
  },
  {
   "cell_type": "code",
   "execution_count": 57,
   "id": "5ddf137a",
   "metadata": {},
   "outputs": [],
   "source": [
    "import pickle\n",
    "filename = 'regressor_model.pkl'\n",
    "with open(filename, 'wb') as file:\n",
    "    pickle.dump(regressor, file)"
   ]
  },
  {
   "cell_type": "markdown",
   "id": "2220a821",
   "metadata": {},
   "source": [
    "#### The following code filters the data to retain only the rows where the 'target' value is greater than 4. It then obtains the indices of these filtered rows, providing a way to access or manipulate specific rows of interest within the DataFrame."
   ]
  },
  {
   "cell_type": "code",
   "execution_count": 59,
   "id": "6dad6fd9",
   "metadata": {},
   "outputs": [
    {
     "data": {
      "text/plain": [
       "Int64Index([   22600,    22606,    22621,    36813,    36823,   139096,\n",
       "              157645,   224952,   226612,   230601,\n",
       "            ...\n",
       "            17187343, 17188110, 17200751, 17214346, 17214429, 17214472,\n",
       "            17214524, 17214578, 17218785, 17231314],\n",
       "           dtype='int64', length=1994)"
      ]
     },
     "execution_count": 59,
     "metadata": {},
     "output_type": "execute_result"
    }
   ],
   "source": [
    "filtered_data = df[df['target'] > 4]\n",
    "\n",
    "# Getting the indices of the filtered rows\n",
    "indices = filtered_data.index\n",
    "indices"
   ]
  },
  {
   "cell_type": "code",
   "execution_count": 61,
   "id": "0259141d",
   "metadata": {},
   "outputs": [
    {
     "name": "stdout",
     "output_type": "stream",
     "text": [
      "Country                               202.0\n",
      "Device Type                             2.0\n",
      "Login Successful                        0.0\n",
      "Browser Category                        8.0\n",
      "LoginRatio                           1155.0\n",
      "Total Devices Per User                  4.0\n",
      "Total IP Addresses Per User           674.0\n",
      "Total Countries Per User               28.0\n",
      "Total Browser Categories Per User      15.0\n",
      "Time Difference                         0.0\n",
      "target                                  5.0\n",
      "Name: 22600, dtype: float64\n"
     ]
    }
   ],
   "source": [
    "index_to_print = 17218785\n",
    "# Printing the row at the specified index\n",
    "print(df.loc[index_to_print])"
   ]
  },
  {
   "cell_type": "code",
   "execution_count": null,
   "id": "bd589478",
   "metadata": {},
   "outputs": [],
   "source": []
  }
 ],
 "metadata": {
  "kernelspec": {
   "display_name": "Python 3 (ipykernel)",
   "language": "python",
   "name": "python3"
  },
  "language_info": {
   "codemirror_mode": {
    "name": "ipython",
    "version": 3
   },
   "file_extension": ".py",
   "mimetype": "text/x-python",
   "name": "python",
   "nbconvert_exporter": "python",
   "pygments_lexer": "ipython3",
   "version": "3.10.9"
  }
 },
 "nbformat": 4,
 "nbformat_minor": 5
}
